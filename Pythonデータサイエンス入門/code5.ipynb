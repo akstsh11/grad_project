{
 "cells": [
  {
   "cell_type": "code",
   "execution_count": 1,
   "id": "a2b234bf",
   "metadata": {},
   "outputs": [],
   "source": [
    "import pandas as pd\n",
    "import numpy as np\n",
    "import matplotlib.pyplot as plt\n",
    "import calendar\n",
    "import japanize_matplotlib\n",
    "import seaborn as sns\n",
    "from sklearn.metrics import r2_score"
   ]
  },
  {
   "cell_type": "code",
   "execution_count": 2,
   "id": "6e41eea9",
   "metadata": {},
   "outputs": [
    {
     "data": {
      "text/html": [
       "<div>\n",
       "<style scoped>\n",
       "    .dataframe tbody tr th:only-of-type {\n",
       "        vertical-align: middle;\n",
       "    }\n",
       "\n",
       "    .dataframe tbody tr th {\n",
       "        vertical-align: top;\n",
       "    }\n",
       "\n",
       "    .dataframe thead th {\n",
       "        text-align: right;\n",
       "    }\n",
       "</style>\n",
       "<table border=\"1\" class=\"dataframe\">\n",
       "  <thead>\n",
       "    <tr style=\"text-align: right;\">\n",
       "      <th></th>\n",
       "      <th>日最高気温の平均(℃)</th>\n",
       "      <th>year</th>\n",
       "      <th>month</th>\n",
       "      <th>チョコレート【円/日】</th>\n",
       "      <th>アイスクリーム・シャーベット【円/日】</th>\n",
       "      <th>feb</th>\n",
       "    </tr>\n",
       "  </thead>\n",
       "  <tbody>\n",
       "    <tr>\n",
       "      <th>0</th>\n",
       "      <td>17.0</td>\n",
       "      <td>2009</td>\n",
       "      <td>11</td>\n",
       "      <td>12.166667</td>\n",
       "      <td>13.400000</td>\n",
       "      <td>0</td>\n",
       "    </tr>\n",
       "    <tr>\n",
       "      <th>1</th>\n",
       "      <td>12.4</td>\n",
       "      <td>2009</td>\n",
       "      <td>12</td>\n",
       "      <td>15.032258</td>\n",
       "      <td>14.193548</td>\n",
       "      <td>0</td>\n",
       "    </tr>\n",
       "    <tr>\n",
       "      <th>2</th>\n",
       "      <td>11.0</td>\n",
       "      <td>2010</td>\n",
       "      <td>1</td>\n",
       "      <td>14.709677</td>\n",
       "      <td>11.677419</td>\n",
       "      <td>0</td>\n",
       "    </tr>\n",
       "    <tr>\n",
       "      <th>3</th>\n",
       "      <td>9.9</td>\n",
       "      <td>2010</td>\n",
       "      <td>2</td>\n",
       "      <td>40.071429</td>\n",
       "      <td>10.892857</td>\n",
       "      <td>1</td>\n",
       "    </tr>\n",
       "    <tr>\n",
       "      <th>4</th>\n",
       "      <td>13.2</td>\n",
       "      <td>2010</td>\n",
       "      <td>3</td>\n",
       "      <td>13.193548</td>\n",
       "      <td>12.354839</td>\n",
       "      <td>0</td>\n",
       "    </tr>\n",
       "    <tr>\n",
       "      <th>...</th>\n",
       "      <td>...</td>\n",
       "      <td>...</td>\n",
       "      <td>...</td>\n",
       "      <td>...</td>\n",
       "      <td>...</td>\n",
       "      <td>...</td>\n",
       "    </tr>\n",
       "    <tr>\n",
       "      <th>109</th>\n",
       "      <td>12.1</td>\n",
       "      <td>2018</td>\n",
       "      <td>12</td>\n",
       "      <td>22.645161</td>\n",
       "      <td>17.322581</td>\n",
       "      <td>0</td>\n",
       "    </tr>\n",
       "    <tr>\n",
       "      <th>110</th>\n",
       "      <td>10.3</td>\n",
       "      <td>2019</td>\n",
       "      <td>1</td>\n",
       "      <td>25.451613</td>\n",
       "      <td>15.935484</td>\n",
       "      <td>0</td>\n",
       "    </tr>\n",
       "    <tr>\n",
       "      <th>111</th>\n",
       "      <td>11.6</td>\n",
       "      <td>2019</td>\n",
       "      <td>2</td>\n",
       "      <td>49.428571</td>\n",
       "      <td>15.107143</td>\n",
       "      <td>1</td>\n",
       "    </tr>\n",
       "    <tr>\n",
       "      <th>112</th>\n",
       "      <td>15.4</td>\n",
       "      <td>2019</td>\n",
       "      <td>3</td>\n",
       "      <td>22.935484</td>\n",
       "      <td>17.483871</td>\n",
       "      <td>0</td>\n",
       "    </tr>\n",
       "    <tr>\n",
       "      <th>113</th>\n",
       "      <td>19.0</td>\n",
       "      <td>2019</td>\n",
       "      <td>4</td>\n",
       "      <td>16.500000</td>\n",
       "      <td>22.233333</td>\n",
       "      <td>0</td>\n",
       "    </tr>\n",
       "  </tbody>\n",
       "</table>\n",
       "<p>114 rows × 6 columns</p>\n",
       "</div>"
      ],
      "text/plain": [
       "     日最高気温の平均(℃)  year  month  チョコレート【円/日】  アイスクリーム・シャーベット【円/日】  feb\n",
       "0           17.0  2009     11    12.166667            13.400000    0\n",
       "1           12.4  2009     12    15.032258            14.193548    0\n",
       "2           11.0  2010      1    14.709677            11.677419    0\n",
       "3            9.9  2010      2    40.071429            10.892857    1\n",
       "4           13.2  2010      3    13.193548            12.354839    0\n",
       "..           ...   ...    ...          ...                  ...  ...\n",
       "109         12.1  2018     12    22.645161            17.322581    0\n",
       "110         10.3  2019      1    25.451613            15.935484    0\n",
       "111         11.6  2019      2    49.428571            15.107143    1\n",
       "112         15.4  2019      3    22.935484            17.483871    0\n",
       "113         19.0  2019      4    16.500000            22.233333    0\n",
       "\n",
       "[114 rows x 6 columns]"
      ]
     },
     "execution_count": 2,
     "metadata": {},
     "output_type": "execute_result"
    }
   ],
   "source": [
    "# データの読み込み\n",
    "df = pd.read_csv(\"choco_ice.csv\", encoding=\"sjis\")\n",
    "df"
   ]
  },
  {
   "cell_type": "code",
   "execution_count": 3,
   "id": "dbc5093c",
   "metadata": {},
   "outputs": [
    {
     "name": "stdout",
     "output_type": "stream",
     "text": [
      "y = 1.2583x + -3.0113\n",
      "R^2: 0.8137\n"
     ]
    }
   ],
   "source": [
    "#  コード5.1：線形単回帰\n",
    "x_name = '日最高気温の平均(℃)'\n",
    "y_name = 'アイスクリーム・シャーベット【円/日】'\n",
    "\n",
    "x = df[x_name].values\n",
    "y = df[y_name].values\n",
    "a, b = np.polyfit(x, y, deg=1)\n",
    "r2 = r2_score(y, a*x + b)\n",
    "\n",
    "print(f\"y = {a:.4f}x + {b:.4f}\")\n",
    "print(f\"R^2: {r2:.4f}\")"
   ]
  },
  {
   "cell_type": "code",
   "execution_count": 4,
   "id": "cbdb86e5",
   "metadata": {},
   "outputs": [
    {
     "data": {
      "image/png": "[encoded data removed]",
      "text/plain": [
       "<Figure size 432x288 with 1 Axes>"
      ]
     },
     "metadata": {
      "needs_background": "light"
     },
     "output_type": "display_data"
    }
   ],
   "source": [
    "# 図5.2：アイスクリームの回帰直線\n",
    "plt.scatter(x, y, alpha=0.5)\n",
    "x_minmax = np.array([x.min(), x.max()])\n",
    "y_pred = a * x_minmax + b\n",
    "plt.plot(x_minmax, y_pred, linewidth=2)\n",
    "plt.xlabel(x_name)\n",
    "plt.ylabel(y_name)\n",
    "plt.show()"
   ]
  },
  {
   "cell_type": "code",
   "execution_count": 5,
   "id": "7d54e09f",
   "metadata": {},
   "outputs": [
    {
     "name": "stdout",
     "output_type": "stream",
     "text": [
      "y = 0.0733x^2 + -1.7640x + 23.9639\n",
      "R^2: 0.9185\n"
     ]
    }
   ],
   "source": [
    "# コード5.2：次数2の単回帰\n",
    "x_name = '日最高気温の平均(℃)'\n",
    "y_name = 'アイスクリーム・シャーベット【円/日】'\n",
    "\n",
    "x = df[x_name].values\n",
    "y = df[y_name].values\n",
    "a2, a1, b = np.polyfit(x, y, deg=2)\n",
    "r2 = r2_score(y, a2 * x**2 + a1 * x + b)\n",
    "\n",
    "print(f\"y = {a2:.4f}x^2 + {a1:.4f}x + {b:.4f}\")\n",
    "print(f\"R^2: {r2:.4f}\")"
   ]
  },
  {
   "cell_type": "code",
   "execution_count": 6,
   "id": "5fcfe753",
   "metadata": {},
   "outputs": [
    {
     "data": {
      "image/png": "[encoded data removed]",
      "text/plain": [
       "<Figure size 432x288 with 1 Axes>"
      ]
     },
     "metadata": {
      "needs_background": "light"
     },
     "output_type": "display_data"
    }
   ],
   "source": [
    "# 図5.3：アイスクリームの回帰曲線\n",
    "plt.scatter(x, y, alpha=0.5)\n",
    "x_minmax = np.linspace(x.min(), x.max(), 100)\n",
    "y_pred = a2 * x_minmax**2 + a1 * x_minmax + b\n",
    "plt.plot(x_minmax, y_pred, linewidth=2)\n",
    "plt.xlabel(x_name)\n",
    "plt.ylabel(y_name)\n",
    "plt.show()"
   ]
  },
  {
   "cell_type": "code",
   "execution_count": 7,
   "id": "b9df5c81",
   "metadata": {},
   "outputs": [
    {
     "name": "stdout",
     "output_type": "stream",
     "text": [
      "y = 1.2583x + 24.0910v + 26.9451\n",
      "R^2: 0.9249\n"
     ]
    }
   ],
   "source": [
    "# コード5.3：説明変数が2つの場合の重回帰\n",
    "from sklearn.linear_model import LinearRegression\n",
    "\n",
    "x = df[['日最高気温の平均(℃)', 'feb']].values\n",
    "y = df['チョコレート【円/日】'].values\n",
    "\n",
    "lr = LinearRegression()\n",
    "lr.fit(x, y)\n",
    "a1, a2 = lr.coef_\n",
    "b = lr.intercept_\n",
    "r2 = r2_score(y, a1 * x[:,0] + b + a2 * x[:,1])\n",
    "\n",
    "print(f\"y = {a:.4f}x + {b:.4f}v + {a2:.4f}\")\n",
    "print(f\"R^2: {r2:.4f}\")"
   ]
  },
  {
   "cell_type": "code",
   "execution_count": 8,
   "id": "eaf28684",
   "metadata": {},
   "outputs": [
    {
     "data": {
      "image/png": "[encoded data removed]",
      "text/plain": [
       "<Figure size 432x288 with 1 Axes>"
      ]
     },
     "metadata": {
      "needs_background": "light"
     },
     "output_type": "display_data"
    }
   ],
   "source": [
    "# 図5.4：ダミー変数を導入したチョコレートの回帰直線\n",
    "x_minmax = np.array([x[:,0].min(), x[:,0].max()])\n",
    "y_pred = a1 * x_minmax + b\n",
    "x_name = \"日最高気温の平均(℃)\"\n",
    "y_name = \"チョコレート【円/日】\"\n",
    "ax = df[df.feb==0].plot(kind='scatter', x=x_name, y=y_name, alpha=0.5)\n",
    "df[df.feb==1].plot(kind='scatter', x=x_name, y=y_name, marker='^', ax=ax, alpha=0.5, color=\"orange\")\n",
    "plt.plot(x_minmax, y_pred, linewidth=2)\n",
    "plt.plot(x_minmax, y_pred + a2, linewidth=2, linestyle=\"dashed\", color=\"orange\")\n",
    "plt.show()"
   ]
  },
  {
   "cell_type": "code",
   "execution_count": null,
   "id": "c2ce0274",
   "metadata": {},
   "outputs": [],
   "source": []
  }
 ],
 "metadata": {
  "kernelspec": {
   "display_name": "Python 3.8.2 64-bit ('3.8.2')",
   "language": "python",
   "name": "python3"
  },
  "language_info": {
   "codemirror_mode": {
    "name": "ipython",
    "version": 3
   },
   "file_extension": ".py",
   "mimetype": "text/x-python",
   "name": "python",
   "nbconvert_exporter": "python",
   "pygments_lexer": "ipython3",
   "version": "3.8.2"
  },
  "vscode": {
   "interpreter": {
    "hash": "e6cf82ae82e828d200fab7f5ba9abf59b6516bb6b46a916fa44930a67d435a4e"
   }
  }
 },
 "nbformat": 4,
 "nbformat_minor": 5
}
