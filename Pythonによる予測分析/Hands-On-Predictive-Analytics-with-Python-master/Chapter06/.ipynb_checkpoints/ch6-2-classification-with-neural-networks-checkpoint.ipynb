{
 "cells": [
  {
   "cell_type": "markdown",
   "metadata": {},
   "source": [
    "# Predicting Credit Card Default with Neural Networks"
   ]
  },
  {
   "cell_type": "code",
   "execution_count": 1,
   "metadata": {},
   "outputs": [],
   "source": [
    "import numpy as np\n",
    "import pandas as pd\n",
    "import matplotlib.pyplot as plt\n",
    "import seaborn as sns\n",
    "import os\n",
    "%matplotlib inline"
   ]
  },
  {
   "cell_type": "markdown",
   "metadata": {},
   "source": [
    "### Back with the credit card default dataset"
   ]
  },
  {
   "cell_type": "code",
   "execution_count": 2,
   "metadata": {},
   "outputs": [],
   "source": [
    "# Loading the dataset\n",
    "DATA_DIR = '../data'\n",
    "FILE_NAME = 'credit_card_default.csv'\n",
    "data_path = os.path.join(DATA_DIR, FILE_NAME)\n",
    "ccd = pd.read_csv(data_path, index_col=\"ID\")\n",
    "ccd.rename(columns=lambda x: x.lower(), inplace=True)\n",
    "ccd.rename(columns={'default payment next month':'default'}, inplace=True)\n",
    "\n",
    "# getting the groups of features\n",
    "bill_amt_features = ['bill_amt'+ str(i) for i in range(1,7)]\n",
    "pay_amt_features = ['pay_amt'+ str(i) for i in range(1,7)]\n",
    "numerical_features = ['limit_bal','age'] + bill_amt_features + pay_amt_features\n",
    "\n",
    "# Creating creating binary features\n",
    "ccd['male'] = (ccd['sex'] == 1).astype('int')\n",
    "ccd['grad_school'] = (ccd['education'] == 1).astype('int')\n",
    "ccd['university'] = (ccd['education'] == 2).astype('int')\n",
    "#ccd['high_school'] = (ccd['education'] == 3).astype('int')\n",
    "ccd['married'] = (ccd['marriage'] == 1).astype('int')\n",
    "\n",
    "# simplifying pay features \n",
    "pay_features= ['pay_' + str(i) for i in range(1,7)]\n",
    "for x in pay_features:\n",
    "    ccd.loc[ccd[x] <= 0, x] = 0\n",
    "\n",
    "# simplifying delayed features\n",
    "delayed_features = ['delayed_' + str(i) for i in range(1,7)]\n",
    "for pay, delayed in zip(pay_features, delayed_features):\n",
    "    ccd[delayed] = (ccd[pay] > 0).astype(int)\n",
    "    \n",
    "# creating a new feature: months delayed\n",
    "ccd['months_delayed'] = ccd[delayed_features].sum(axis=1)"
   ]
  },
  {
   "cell_type": "markdown",
   "metadata": {},
   "source": [
    "## Split and standarize the dataset"
   ]
  },
  {
   "cell_type": "code",
   "execution_count": 3,
   "metadata": {},
   "outputs": [
    {
     "name": "stderr",
     "output_type": "stream",
     "text": [
      "C:\\Anaconda\\envs\\ho-pawp\\lib\\site-packages\\pandas\\core\\indexing.py:966: SettingWithCopyWarning: \n",
      "A value is trying to be set on a copy of a slice from a DataFrame.\n",
      "Try using .loc[row_indexer,col_indexer] = value instead\n",
      "\n",
      "See the caveats in the documentation: https://pandas.pydata.org/pandas-docs/stable/user_guide/indexing.html#returning-a-view-versus-a-copy\n",
      "  self.obj[item] = s\n",
      "C:\\Anaconda\\envs\\ho-pawp\\lib\\site-packages\\pandas\\core\\indexing.py:966: SettingWithCopyWarning: \n",
      "A value is trying to be set on a copy of a slice from a DataFrame.\n",
      "Try using .loc[row_indexer,col_indexer] = value instead\n",
      "\n",
      "See the caveats in the documentation: https://pandas.pydata.org/pandas-docs/stable/user_guide/indexing.html#returning-a-view-versus-a-copy\n",
      "  self.obj[item] = s\n"
     ]
    }
   ],
   "source": [
    "numerical_features = numerical_features + ['months_delayed']\n",
    "binary_features = ['male','married','grad_school','university']\n",
    "X = ccd[numerical_features + binary_features]\n",
    "y = ccd['default'].astype(int)\n",
    "\n",
    "## Split\n",
    "from sklearn.model_selection import train_test_split\n",
    "X_train, X_test, y_train, y_test = train_test_split(X, y, test_size=5/30, random_state=101)\n",
    "\n",
    "## Standarize\n",
    "from sklearn.preprocessing import StandardScaler\n",
    "scaler = StandardScaler()\n",
    "scaler.fit(X_train[numerical_features])\n",
    "X_train.loc[:, numerical_features] = scaler.transform(X_train[numerical_features])\n",
    "# Standarize also the testing set\n",
    "X_test.loc[:, numerical_features] = scaler.transform(X_test[numerical_features])"
   ]
  },
  {
   "cell_type": "markdown",
   "metadata": {},
   "source": [
    "### Building the neural network for classification"
   ]
  },
  {
   "cell_type": "code",
   "execution_count": 4,
   "metadata": {},
   "outputs": [
    {
     "name": "stderr",
     "output_type": "stream",
     "text": [
      "Using TensorFlow backend.\n"
     ]
    }
   ],
   "source": [
    "from keras.models import Sequential\n",
    "nn_classifier = Sequential()"
   ]
  },
  {
   "cell_type": "code",
   "execution_count": 5,
   "metadata": {},
   "outputs": [],
   "source": [
    "from keras.layers import Dense\n",
    "n_input = X_train.shape[1]\n",
    "n_units_hidden = 64\n",
    "nn_classifier.add(Dense(units=n_units_hidden, activation='relu', input_shape=(n_input,)))"
   ]
  },
  {
   "cell_type": "code",
   "execution_count": 6,
   "metadata": {},
   "outputs": [],
   "source": [
    "# add 2nd hidden layer\n",
    "nn_classifier.add(Dense(units=n_units_hidden, activation='relu'))\n",
    "# add 3th hidden layer\n",
    "nn_classifier.add(Dense(units=n_units_hidden, activation='relu'))\n",
    "# add 4th hidden layer\n",
    "nn_classifier.add(Dense(units=n_units_hidden, activation='relu'))\n",
    "# add 5th hidden layer\n",
    "nn_classifier.add(Dense(units=n_units_hidden, activation='relu'))"
   ]
  },
  {
   "cell_type": "code",
   "execution_count": 7,
   "metadata": {},
   "outputs": [],
   "source": [
    "# output layer\n",
    "nn_classifier.add(Dense(1, activation='sigmoid'))"
   ]
  },
  {
   "cell_type": "markdown",
   "metadata": {},
   "source": [
    "### Training the network"
   ]
  },
  {
   "cell_type": "code",
   "execution_count": 8,
   "metadata": {},
   "outputs": [],
   "source": [
    "## compiling step\n",
    "nn_classifier.compile(loss='binary_crossentropy', optimizer='adam')"
   ]
  },
  {
   "cell_type": "code",
   "execution_count": 9,
   "metadata": {},
   "outputs": [
    {
     "name": "stdout",
     "output_type": "stream",
     "text": [
      "Model: \"sequential_1\"\n",
      "_________________________________________________________________\n",
      "Layer (type)                 Output Shape              Param #   \n",
      "=================================================================\n",
      "dense_1 (Dense)              (None, 64)                1280      \n",
      "_________________________________________________________________\n",
      "dense_2 (Dense)              (None, 64)                4160      \n",
      "_________________________________________________________________\n",
      "dense_3 (Dense)              (None, 64)                4160      \n",
      "_________________________________________________________________\n",
      "dense_4 (Dense)              (None, 64)                4160      \n",
      "_________________________________________________________________\n",
      "dense_5 (Dense)              (None, 64)                4160      \n",
      "_________________________________________________________________\n",
      "dense_6 (Dense)              (None, 1)                 65        \n",
      "=================================================================\n",
      "Total params: 17,985\n",
      "Trainable params: 17,985\n",
      "Non-trainable params: 0\n",
      "_________________________________________________________________\n"
     ]
    }
   ],
   "source": [
    "nn_classifier.summary()"
   ]
  },
  {
   "cell_type": "code",
   "execution_count": 10,
   "metadata": {},
   "outputs": [],
   "source": [
    "nn_classifier.save_weights('class_initial_w.h5')"
   ]
  },
  {
   "cell_type": "code",
   "execution_count": 11,
   "metadata": {},
   "outputs": [
    {
     "name": "stdout",
     "output_type": "stream",
     "text": [
      "Epoch 1/150\n",
      "25000/25000 [==============================] - 1s 30us/step - loss: 0.4690\n",
      "Epoch 2/150\n",
      "25000/25000 [==============================] - 1s 21us/step - loss: 0.4481\n",
      "Epoch 3/150\n",
      "25000/25000 [==============================] - 1s 21us/step - loss: 0.4446\n",
      "Epoch 4/150\n",
      "25000/25000 [==============================] - 1s 21us/step - loss: 0.4428\n",
      "Epoch 5/150\n",
      "25000/25000 [==============================] - 1s 22us/step - loss: 0.4405\n",
      "Epoch 6/150\n",
      "25000/25000 [==============================] - 1s 21us/step - loss: 0.4399\n",
      "Epoch 7/150\n",
      "25000/25000 [==============================] - 1s 21us/step - loss: 0.4388\n",
      "Epoch 8/150\n",
      "25000/25000 [==============================] - 1s 21us/step - loss: 0.4379\n",
      "Epoch 9/150\n",
      "25000/25000 [==============================] - 1s 21us/step - loss: 0.4365\n",
      "Epoch 10/150\n",
      "25000/25000 [==============================] - 1s 22us/step - loss: 0.4353\n",
      "Epoch 11/150\n",
      "25000/25000 [==============================] - 1s 21us/step - loss: 0.4348\n",
      "Epoch 12/150\n",
      "25000/25000 [==============================] - 1s 22us/step - loss: 0.4334\n",
      "Epoch 13/150\n",
      "25000/25000 [==============================] - 1s 21us/step - loss: 0.4325\n",
      "Epoch 14/150\n",
      "25000/25000 [==============================] - 1s 22us/step - loss: 0.4303\n",
      "Epoch 15/150\n",
      "25000/25000 [==============================] - 1s 22us/step - loss: 0.4289\n",
      "Epoch 16/150\n",
      "25000/25000 [==============================] - 1s 22us/step - loss: 0.4282\n",
      "Epoch 17/150\n",
      "25000/25000 [==============================] - 1s 22us/step - loss: 0.4262\n",
      "Epoch 18/150\n",
      "25000/25000 [==============================] - 1s 22us/step - loss: 0.4243\n",
      "Epoch 19/150\n",
      "25000/25000 [==============================] - 1s 22us/step - loss: 0.4240\n",
      "Epoch 20/150\n",
      "25000/25000 [==============================] - 1s 22us/step - loss: 0.4217\n",
      "Epoch 21/150\n",
      "25000/25000 [==============================] - 1s 22us/step - loss: 0.4203\n",
      "Epoch 22/150\n",
      "25000/25000 [==============================] - 1s 22us/step - loss: 0.4180\n",
      "Epoch 23/150\n",
      "25000/25000 [==============================] - 1s 22us/step - loss: 0.4166\n",
      "Epoch 24/150\n",
      "25000/25000 [==============================] - 1s 22us/step - loss: 0.4145\n",
      "Epoch 25/150\n",
      "25000/25000 [==============================] - 1s 22us/step - loss: 0.4128\n",
      "Epoch 26/150\n",
      "25000/25000 [==============================] - 1s 22us/step - loss: 0.4113\n",
      "Epoch 27/150\n",
      "25000/25000 [==============================] - 1s 22us/step - loss: 0.4088\n",
      "Epoch 28/150\n",
      "25000/25000 [==============================] - 1s 22us/step - loss: 0.4065\n",
      "Epoch 29/150\n",
      "25000/25000 [==============================] - 1s 22us/step - loss: 0.4038\n",
      "Epoch 30/150\n",
      "25000/25000 [==============================] - 1s 22us/step - loss: 0.4034\n",
      "Epoch 31/150\n",
      "25000/25000 [==============================] - ETA: 0s - loss: 0.397 - 1s 22us/step - loss: 0.3986\n",
      "Epoch 32/150\n",
      "25000/25000 [==============================] - 1s 22us/step - loss: 0.3986\n",
      "Epoch 33/150\n",
      "25000/25000 [==============================] - 1s 22us/step - loss: 0.3968\n",
      "Epoch 34/150\n",
      "25000/25000 [==============================] - 1s 22us/step - loss: 0.3920\n",
      "Epoch 35/150\n",
      "25000/25000 [==============================] - 1s 22us/step - loss: 0.3888\n",
      "Epoch 36/150\n",
      "25000/25000 [==============================] - 1s 22us/step - loss: 0.3870\n",
      "Epoch 37/150\n",
      "25000/25000 [==============================] - 1s 22us/step - loss: 0.3869\n",
      "Epoch 38/150\n",
      "25000/25000 [==============================] - 1s 22us/step - loss: 0.3828\n",
      "Epoch 39/150\n",
      "25000/25000 [==============================] - 1s 23us/step - loss: 0.3821\n",
      "Epoch 40/150\n",
      "25000/25000 [==============================] - 1s 22us/step - loss: 0.3779\n",
      "Epoch 41/150\n",
      "25000/25000 [==============================] - 1s 23us/step - loss: 0.3760\n",
      "Epoch 42/150\n",
      "25000/25000 [==============================] - 1s 22us/step - loss: 0.3739\n",
      "Epoch 43/150\n",
      "25000/25000 [==============================] - 1s 23us/step - loss: 0.3742\n",
      "Epoch 44/150\n",
      "25000/25000 [==============================] - 1s 22us/step - loss: 0.3683\n",
      "Epoch 45/150\n",
      "25000/25000 [==============================] - 1s 22us/step - loss: 0.3663\n",
      "Epoch 46/150\n",
      "25000/25000 [==============================] - 1s 22us/step - loss: 0.3641\n",
      "Epoch 47/150\n",
      "25000/25000 [==============================] - 1s 23us/step - loss: 0.3625\n",
      "Epoch 48/150\n",
      "25000/25000 [==============================] - 1s 22us/step - loss: 0.3605\n",
      "Epoch 49/150\n",
      "25000/25000 [==============================] - 1s 23us/step - loss: 0.3571\n",
      "Epoch 50/150\n",
      "25000/25000 [==============================] - 1s 23us/step - loss: 0.3525\n",
      "Epoch 51/150\n",
      "25000/25000 [==============================] - 1s 22us/step - loss: 0.3547\n",
      "Epoch 52/150\n",
      "25000/25000 [==============================] - 1s 22us/step - loss: 0.3493\n",
      "Epoch 53/150\n",
      "25000/25000 [==============================] - 1s 23us/step - loss: 0.3481\n",
      "Epoch 54/150\n",
      "25000/25000 [==============================] - 1s 23us/step - loss: 0.3484\n",
      "Epoch 55/150\n",
      "25000/25000 [==============================] - 1s 24us/step - loss: 0.3442\n",
      "Epoch 56/150\n",
      "25000/25000 [==============================] - 1s 23us/step - loss: 0.3426\n",
      "Epoch 57/150\n",
      "25000/25000 [==============================] - 1s 24us/step - loss: 0.3386\n",
      "Epoch 58/150\n",
      "25000/25000 [==============================] - 1s 24us/step - loss: 0.3404\n",
      "Epoch 59/150\n",
      "25000/25000 [==============================] - 1s 24us/step - loss: 0.3381\n",
      "Epoch 60/150\n",
      "25000/25000 [==============================] - 1s 25us/step - loss: 0.3370\n",
      "Epoch 61/150\n",
      "25000/25000 [==============================] - 1s 23us/step - loss: 0.3307\n",
      "Epoch 62/150\n",
      "25000/25000 [==============================] - 1s 24us/step - loss: 0.3301\n",
      "Epoch 63/150\n",
      "25000/25000 [==============================] - 1s 24us/step - loss: 0.3283\n",
      "Epoch 64/150\n",
      "25000/25000 [==============================] - 1s 26us/step - loss: 0.3248\n",
      "Epoch 65/150\n",
      "25000/25000 [==============================] - 1s 24us/step - loss: 0.3261\n",
      "Epoch 66/150\n",
      "25000/25000 [==============================] - 1s 24us/step - loss: 0.3221\n",
      "Epoch 67/150\n",
      "25000/25000 [==============================] - 1s 24us/step - loss: 0.3203\n",
      "Epoch 68/150\n",
      "25000/25000 [==============================] - 1s 24us/step - loss: 0.3228\n",
      "Epoch 69/150\n",
      "25000/25000 [==============================] - 1s 24us/step - loss: 0.3181\n",
      "Epoch 70/150\n",
      "25000/25000 [==============================] - 1s 24us/step - loss: 0.3193\n",
      "Epoch 71/150\n",
      "25000/25000 [==============================] - 1s 24us/step - loss: 0.3115\n",
      "Epoch 72/150\n",
      "25000/25000 [==============================] - 1s 24us/step - loss: 0.3155\n",
      "Epoch 73/150\n",
      "25000/25000 [==============================] - 1s 24us/step - loss: 0.3161\n",
      "Epoch 74/150\n",
      "25000/25000 [==============================] - 1s 25us/step - loss: 0.3071\n",
      "Epoch 75/150\n",
      "25000/25000 [==============================] - 1s 23us/step - loss: 0.3089\n",
      "Epoch 76/150\n",
      "25000/25000 [==============================] - 1s 24us/step - loss: 0.3074\n",
      "Epoch 77/150\n",
      "25000/25000 [==============================] - 1s 24us/step - loss: 0.3079\n",
      "Epoch 78/150\n",
      "25000/25000 [==============================] - 1s 24us/step - loss: 0.3001\n",
      "Epoch 79/150\n",
      "25000/25000 [==============================] - 1s 23us/step - loss: 0.3061\n",
      "Epoch 80/150\n",
      "25000/25000 [==============================] - 1s 25us/step - loss: 0.3023\n",
      "Epoch 81/150\n",
      "25000/25000 [==============================] - 1s 24us/step - loss: 0.3015\n",
      "Epoch 82/150\n",
      "25000/25000 [==============================] - 1s 25us/step - loss: 0.2933\n",
      "Epoch 83/150\n",
      "25000/25000 [==============================] - 1s 24us/step - loss: 0.2968\n",
      "Epoch 84/150\n",
      "25000/25000 [==============================] - 1s 24us/step - loss: 0.2973\n",
      "Epoch 85/150\n",
      "25000/25000 [==============================] - 1s 24us/step - loss: 0.2949\n",
      "Epoch 86/150\n",
      "25000/25000 [==============================] - 1s 24us/step - loss: 0.2941\n",
      "Epoch 87/150\n",
      "25000/25000 [==============================] - 1s 25us/step - loss: 0.2835\n",
      "Epoch 88/150\n",
      "25000/25000 [==============================] - 1s 24us/step - loss: 0.2889\n",
      "Epoch 89/150\n",
      "25000/25000 [==============================] - 1s 25us/step - loss: 0.2862\n",
      "Epoch 90/150\n",
      "25000/25000 [==============================] - 1s 24us/step - loss: 0.2876\n",
      "Epoch 91/150\n",
      "25000/25000 [==============================] - 1s 24us/step - loss: 0.2809\n",
      "Epoch 92/150\n",
      "25000/25000 [==============================] - 1s 24us/step - loss: 0.2876\n",
      "Epoch 93/150\n"
     ]
    },
    {
     "name": "stdout",
     "output_type": "stream",
     "text": [
      "25000/25000 [==============================] - 1s 23us/step - loss: 0.2804\n",
      "Epoch 94/150\n",
      "25000/25000 [==============================] - 1s 23us/step - loss: 0.2834\n",
      "Epoch 95/150\n",
      "25000/25000 [==============================] - 1s 23us/step - loss: 0.2803\n",
      "Epoch 96/150\n",
      "25000/25000 [==============================] - 1s 23us/step - loss: 0.2822\n",
      "Epoch 97/150\n",
      "25000/25000 [==============================] - 1s 23us/step - loss: 0.2810\n",
      "Epoch 98/150\n",
      "25000/25000 [==============================] - 1s 22us/step - loss: 0.2751\n",
      "Epoch 99/150\n",
      "25000/25000 [==============================] - 1s 23us/step - loss: 0.2754\n",
      "Epoch 100/150\n",
      "25000/25000 [==============================] - 1s 22us/step - loss: 0.2708\n",
      "Epoch 101/150\n",
      "25000/25000 [==============================] - 1s 22us/step - loss: 0.2708\n",
      "Epoch 102/150\n",
      "25000/25000 [==============================] - 1s 22us/step - loss: 0.2890\n",
      "Epoch 103/150\n",
      "25000/25000 [==============================] - 1s 22us/step - loss: 0.2701\n",
      "Epoch 104/150\n",
      "25000/25000 [==============================] - 1s 22us/step - loss: 0.2674\n",
      "Epoch 105/150\n",
      "25000/25000 [==============================] - 1s 22us/step - loss: 0.2684\n",
      "Epoch 106/150\n",
      "25000/25000 [==============================] - 1s 22us/step - loss: 0.2673\n",
      "Epoch 107/150\n",
      "25000/25000 [==============================] - 1s 23us/step - loss: 0.2690\n",
      "Epoch 108/150\n",
      "25000/25000 [==============================] - 1s 22us/step - loss: 0.2659\n",
      "Epoch 109/150\n",
      "25000/25000 [==============================] - 1s 23us/step - loss: 0.2624\n",
      "Epoch 110/150\n",
      "25000/25000 [==============================] - 1s 22us/step - loss: 0.2663\n",
      "Epoch 111/150\n",
      "25000/25000 [==============================] - 1s 22us/step - loss: 0.2614\n",
      "Epoch 112/150\n",
      "25000/25000 [==============================] - 1s 22us/step - loss: 0.2583\n",
      "Epoch 113/150\n",
      "25000/25000 [==============================] - 1s 22us/step - loss: 0.2560\n",
      "Epoch 114/150\n",
      "25000/25000 [==============================] - 1s 22us/step - loss: 0.2597\n",
      "Epoch 115/150\n",
      "25000/25000 [==============================] - 1s 23us/step - loss: 0.2599\n",
      "Epoch 116/150\n",
      "25000/25000 [==============================] - 1s 22us/step - loss: 0.2570\n",
      "Epoch 117/150\n",
      "25000/25000 [==============================] - 1s 23us/step - loss: 0.2552\n",
      "Epoch 118/150\n",
      "25000/25000 [==============================] - 1s 23us/step - loss: 0.2508\n",
      "Epoch 119/150\n",
      "25000/25000 [==============================] - 1s 22us/step - loss: 0.2494\n",
      "Epoch 120/150\n",
      "25000/25000 [==============================] - 1s 23us/step - loss: 0.2518\n",
      "Epoch 121/150\n",
      "25000/25000 [==============================] - 1s 23us/step - loss: 0.2473\n",
      "Epoch 122/150\n",
      "25000/25000 [==============================] - 1s 23us/step - loss: 0.2574\n",
      "Epoch 123/150\n",
      "25000/25000 [==============================] - 1s 22us/step - loss: 0.2521\n",
      "Epoch 124/150\n",
      "25000/25000 [==============================] - 1s 23us/step - loss: 0.2537\n",
      "Epoch 125/150\n",
      "25000/25000 [==============================] - 1s 23us/step - loss: 0.2490\n",
      "Epoch 126/150\n",
      "25000/25000 [==============================] - 1s 23us/step - loss: 0.2459\n",
      "Epoch 127/150\n",
      "25000/25000 [==============================] - 1s 22us/step - loss: 0.2457\n",
      "Epoch 128/150\n",
      "25000/25000 [==============================] - 1s 23us/step - loss: 0.2479\n",
      "Epoch 129/150\n",
      "25000/25000 [==============================] - 1s 23us/step - loss: 0.2511\n",
      "Epoch 130/150\n",
      "25000/25000 [==============================] - 1s 22us/step - loss: 0.2422\n",
      "Epoch 131/150\n",
      "25000/25000 [==============================] - 1s 22us/step - loss: 0.2419\n",
      "Epoch 132/150\n",
      "25000/25000 [==============================] - 1s 23us/step - loss: 0.2390\n",
      "Epoch 133/150\n",
      "25000/25000 [==============================] - 1s 22us/step - loss: 0.2396\n",
      "Epoch 134/150\n",
      "25000/25000 [==============================] - 1s 23us/step - loss: 0.2336\n",
      "Epoch 135/150\n",
      "25000/25000 [==============================] - 1s 22us/step - loss: 0.2331\n",
      "Epoch 136/150\n",
      "25000/25000 [==============================] - 1s 23us/step - loss: 0.2507\n",
      "Epoch 137/150\n",
      "25000/25000 [==============================] - 1s 22us/step - loss: 0.2420\n",
      "Epoch 138/150\n",
      "25000/25000 [==============================] - 1s 22us/step - loss: 0.2434\n",
      "Epoch 139/150\n",
      "25000/25000 [==============================] - 1s 23us/step - loss: 0.2335\n",
      "Epoch 140/150\n",
      "25000/25000 [==============================] - 1s 22us/step - loss: 0.2268\n",
      "Epoch 141/150\n",
      "25000/25000 [==============================] - 1s 23us/step - loss: 0.2317\n",
      "Epoch 142/150\n",
      "25000/25000 [==============================] - 1s 22us/step - loss: 0.2314\n",
      "Epoch 143/150\n",
      "25000/25000 [==============================] - 1s 23us/step - loss: 0.2426\n",
      "Epoch 144/150\n",
      "25000/25000 [==============================] - 1s 22us/step - loss: 0.2306\n",
      "Epoch 145/150\n",
      "25000/25000 [==============================] - 1s 22us/step - loss: 0.2402\n",
      "Epoch 146/150\n",
      "25000/25000 [==============================] - 1s 23us/step - loss: 0.2297\n",
      "Epoch 147/150\n",
      "25000/25000 [==============================] - 1s 23us/step - loss: 0.2253\n",
      "Epoch 148/150\n",
      "25000/25000 [==============================] - 1s 23us/step - loss: 0.2187\n",
      "Epoch 149/150\n",
      "25000/25000 [==============================] - 1s 23us/step - loss: 0.2243\n",
      "Epoch 150/150\n",
      "25000/25000 [==============================] - 1s 23us/step - loss: 0.2256\n"
     ]
    },
    {
     "data": {
      "text/plain": [
       "<keras.callbacks.callbacks.History at 0x1caf65c7fd0>"
      ]
     },
     "execution_count": 11,
     "metadata": {},
     "output_type": "execute_result"
    }
   ],
   "source": [
    "batch_size = 64\n",
    "n_epochs = 150\n",
    "nn_classifier.fit(X_train, y_train, epochs=n_epochs, batch_size=batch_size)"
   ]
  },
  {
   "cell_type": "markdown",
   "metadata": {},
   "source": [
    "## Evaluating predictions"
   ]
  },
  {
   "cell_type": "code",
   "execution_count": 12,
   "metadata": {},
   "outputs": [],
   "source": [
    "## Getting the probabilities\n",
    "y_pred_train_prob = nn_classifier.predict(X_train)\n",
    "y_pred_test_prob = nn_classifier.predict(X_test)\n",
    "\n",
    "## Classifications from predictions\n",
    "y_pred_train = (y_pred_train_prob > 0.5).astype(int)\n",
    "y_pred_test = (y_pred_test_prob > 0.5).astype(int)"
   ]
  },
  {
   "cell_type": "code",
   "execution_count": 13,
   "metadata": {},
   "outputs": [
    {
     "name": "stdout",
     "output_type": "stream",
     "text": [
      "Train Accuracy: 0.903 \n",
      "Test Accuracy: 0.750\n"
     ]
    }
   ],
   "source": [
    "from sklearn.metrics import accuracy_score\n",
    "train_acc = accuracy_score(y_true=y_train, y_pred=y_pred_train)\n",
    "test_acc = accuracy_score(y_true=y_test, y_pred=y_pred_test)\n",
    "print(\"Train Accuracy: {:0.3f} \\nTest Accuracy: {:0.3f}\".format(train_acc, test_acc))"
   ]
  },
  {
   "cell_type": "markdown",
   "metadata": {},
   "source": [
    "## Re-training the network with less epochs"
   ]
  },
  {
   "cell_type": "code",
   "execution_count": 14,
   "metadata": {},
   "outputs": [],
   "source": [
    "## load the initial weights\n",
    "nn_classifier.load_weights('class_initial_w.h5')"
   ]
  },
  {
   "cell_type": "code",
   "execution_count": null,
   "metadata": {
    "scrolled": true
   },
   "outputs": [
    {
     "name": "stdout",
     "output_type": "stream",
     "text": [
      "Epoch 1/50\n",
      "25000/25000 [==============================] - 1s 30us/step - loss: 0.4680\n",
      "Epoch 2/50\n",
      "25000/25000 [==============================] - 1s 22us/step - loss: 0.4479\n",
      "Epoch 3/50\n",
      "25000/25000 [==============================] - 1s 23us/step - loss: 0.4454\n",
      "Epoch 4/50\n",
      "25000/25000 [==============================] - 1s 23us/step - loss: 0.4430\n",
      "Epoch 5/50\n",
      "25000/25000 [==============================] - 1s 23us/step - loss: 0.4407\n",
      "Epoch 6/50\n",
      "25000/25000 [==============================] - 1s 23us/step - loss: 0.4401\n",
      "Epoch 7/50\n",
      "25000/25000 [==============================] - 1s 23us/step - loss: 0.4381\n",
      "Epoch 8/50\n",
      "25000/25000 [==============================] - 1s 22us/step - loss: 0.4372\n",
      "Epoch 9/50\n",
      "25000/25000 [==============================] - 1s 23us/step - loss: 0.4356\n",
      "Epoch 10/50\n",
      "25000/25000 [==============================] - 1s 22us/step - loss: 0.4350\n",
      "Epoch 11/50\n",
      "25000/25000 [==============================] - 1s 23us/step - loss: 0.4334\n",
      "Epoch 12/50\n",
      "25000/25000 [==============================] - 1s 22us/step - loss: 0.4323\n",
      "Epoch 13/50\n",
      "25000/25000 [==============================] - 1s 23us/step - loss: 0.4320\n",
      "Epoch 14/50\n",
      "25000/25000 [==============================] - 1s 22us/step - loss: 0.4302\n",
      "Epoch 15/50\n",
      "25000/25000 [==============================] - 1s 25us/step - loss: 0.4284\n",
      "Epoch 16/50\n",
      "25000/25000 [==============================] - 1s 22us/step - loss: 0.4278\n",
      "Epoch 17/50\n",
      "25000/25000 [==============================] - 1s 23us/step - loss: 0.4260\n",
      "Epoch 18/50\n",
      "25000/25000 [==============================] - 1s 23us/step - loss: 0.4249\n",
      "Epoch 19/50\n",
      "25000/25000 [==============================] - 1s 23us/step - loss: 0.4226\n",
      "Epoch 20/50\n",
      "10752/25000 [===========>..................] - ETA: 0s - loss: 0.4187"
     ]
    }
   ],
   "source": [
    "batch_size = 64\n",
    "n_epochs = 50\n",
    "nn_classifier.compile(loss='binary_crossentropy', optimizer='adam')\n",
    "nn_classifier.fit(X_train, y_train, epochs=n_epochs, batch_size=batch_size)"
   ]
  },
  {
   "cell_type": "code",
   "execution_count": null,
   "metadata": {},
   "outputs": [],
   "source": [
    "## Getting the probabilities\n",
    "y_pred_train_prob = nn_classifier.predict(X_train)\n",
    "y_pred_test_prob = nn_classifier.predict(X_test)\n",
    "\n",
    "## Classifications from predictions\n",
    "y_pred_train = (y_pred_train_prob > 0.5).astype(int)\n",
    "y_pred_test = (y_pred_test_prob > 0.5).astype(int)\n",
    "\n",
    "## Calculating accuracy\n",
    "train_acc = accuracy_score(y_true=y_train, y_pred=y_pred_train)\n",
    "test_acc = accuracy_score(y_true=y_test, y_pred=y_pred_test)\n",
    "print(\"Train Accuracy: {:0.3f} \\nTest Accuracy: {:0.3f}\".format(train_acc, test_acc))"
   ]
  },
  {
   "cell_type": "code",
   "execution_count": null,
   "metadata": {},
   "outputs": [],
   "source": []
  },
  {
   "cell_type": "code",
   "execution_count": null,
   "metadata": {},
   "outputs": [],
   "source": []
  },
  {
   "cell_type": "code",
   "execution_count": null,
   "metadata": {},
   "outputs": [],
   "source": []
  },
  {
   "cell_type": "code",
   "execution_count": null,
   "metadata": {},
   "outputs": [],
   "source": []
  }
 ],
 "metadata": {
  "kernelspec": {
   "display_name": "Python 3",
   "language": "python",
   "name": "python3"
  },
  "language_info": {
   "codemirror_mode": {
    "name": "ipython",
    "version": 3
   },
   "file_extension": ".py",
   "mimetype": "text/x-python",
   "name": "python",
   "nbconvert_exporter": "python",
   "pygments_lexer": "ipython3",
   "version": "3.6.10"
  }
 },
 "nbformat": 4,
 "nbformat_minor": 2
}
