{
 "cells": [
  {
   "cell_type": "markdown",
   "metadata": {},
   "source": [
    "# Diamond Prices: model tuning and evaluation"
   ]
  },
  {
   "cell_type": "markdown",
   "metadata": {},
   "source": [
    "### Importing libraries"
   ]
  },
  {
   "cell_type": "code",
   "execution_count": 9,
   "metadata": {},
   "outputs": [],
   "source": [
    "import numpy as np\n",
    "import pandas as pd\n",
    "import matplotlib.pyplot as plt\n",
    "import seaborn as sns\n",
    "import os\n",
    "\n",
    "pd.options.mode.chained_assignment = None\n",
    "%matplotlib inline"
   ]
  },
  {
   "cell_type": "markdown",
   "metadata": {},
   "source": [
    "### Loading the dataset"
   ]
  },
  {
   "cell_type": "code",
   "execution_count": 171,
   "metadata": {},
   "outputs": [],
   "source": [
    "DATA_DIR = '../data'\n",
    "FILE_NAME = 'diamonds.csv'\n",
    "data_path = os.path.join(DATA_DIR, FILE_NAME)\n",
    "diamonds = pd.read_csv(data_path)"
   ]
  },
  {
   "cell_type": "markdown",
   "metadata": {},
   "source": [
    "# Evaluation metrics for regression models"
   ]
  },
  {
   "cell_type": "markdown",
   "metadata": {},
   "source": [
    "### Preparing the dataset"
   ]
  },
  {
   "cell_type": "code",
   "execution_count": 174,
   "metadata": {},
   "outputs": [],
   "source": [
    "## Preparation done from Chapter 2\n",
    "diamonds = diamonds.loc[(diamonds['x']>0) | (diamonds['y']>0)]\n",
    "diamonds.loc[11182, 'x'] = diamonds['x'].median()\n",
    "diamonds.loc[11182, 'z'] = diamonds['z'].median()\n",
    "diamonds = diamonds.loc[~((diamonds['y'] > 30) | (diamonds['z'] > 30))]\n",
    "diamonds = pd.concat([diamonds, pd.get_dummies(diamonds['cut'], prefix='cut', drop_first=True)], axis=1)\n",
    "diamonds = pd.concat([diamonds, pd.get_dummies(diamonds['color'], prefix='color', drop_first=True)], axis=1)\n",
    "diamonds = pd.concat([diamonds, pd.get_dummies(diamonds['clarity'], prefix='clarity', drop_first=True)], axis=1)\n",
    "\n",
    "## Dimensionality reduction\n",
    "from sklearn.decomposition import PCA\n",
    "pca = PCA(n_components=1, random_state=123)\n",
    "diamonds['dim_index'] = pca.fit_transform(diamonds[['x','y','z']])\n",
    "diamonds.drop(['x','y','z'], axis=1, inplace=True)"
   ]
  },
  {
   "cell_type": "markdown",
   "metadata": {},
   "source": [
    "## Metrics for regression models"
   ]
  },
  {
   "cell_type": "markdown",
   "metadata": {},
   "source": [
    "### Train-test split"
   ]
  },
  {
   "cell_type": "code",
   "execution_count": 175,
   "metadata": {},
   "outputs": [],
   "source": [
    "X = diamonds.drop(['cut','color','clarity','price'], axis=1)\n",
    "y = diamonds['price']\n",
    "\n",
    "from sklearn.model_selection import train_test_split\n",
    "X_train, X_test, y_train, y_test = train_test_split(X, y, test_size=0.1, random_state=1)"
   ]
  },
  {
   "cell_type": "markdown",
   "metadata": {},
   "source": [
    "### Standarization: centering and scaling "
   ]
  },
  {
   "cell_type": "code",
   "execution_count": 176,
   "metadata": {
    "scrolled": true
   },
   "outputs": [],
   "source": [
    "numerical_features = ['carat', 'depth', 'table', 'dim_index']\n",
    "from sklearn.preprocessing import StandardScaler\n",
    "scaler = StandardScaler()\n",
    "scaler.fit(X_train[numerical_features])\n",
    "X_train.loc[:, numerical_features] = scaler.fit_transform(X_train[numerical_features])\n",
    "X_test.loc[:, numerical_features] = scaler.transform(X_test[numerical_features])"
   ]
  },
  {
   "cell_type": "markdown",
   "metadata": {},
   "source": [
    "#### Building a simple Multiple Regression Model"
   ]
  },
  {
   "cell_type": "code",
   "execution_count": 177,
   "metadata": {},
   "outputs": [],
   "source": [
    "from sklearn.linear_model import LinearRegression\n",
    "ml_reg = LinearRegression()\n",
    "ml_reg.fit(X_train, y_train)\n",
    "y_pred = ml_reg.predict(X_test)"
   ]
  },
  {
   "cell_type": "markdown",
   "metadata": {},
   "source": [
    "### Root Mean Squared Error"
   ]
  },
  {
   "cell_type": "code",
   "execution_count": 178,
   "metadata": {},
   "outputs": [
    {
     "name": "stdout",
     "output_type": "stream",
     "text": [
      "RMSE: 1,085.01\n"
     ]
    }
   ],
   "source": [
    "from sklearn.metrics import mean_squared_error\n",
    "rmse = mean_squared_error(y_true=y_test, y_pred=y_pred)**0.5\n",
    "print(\"RMSE: {:,.2f}\".format(rmse))"
   ]
  },
  {
   "cell_type": "markdown",
   "metadata": {},
   "source": [
    "### Mean Absolute Error"
   ]
  },
  {
   "cell_type": "code",
   "execution_count": 179,
   "metadata": {},
   "outputs": [
    {
     "name": "stdout",
     "output_type": "stream",
     "text": [
      "MAE: 733.67\n"
     ]
    }
   ],
   "source": [
    "from sklearn.metrics import mean_absolute_error\n",
    "mae = mean_absolute_error(y_true=y_test, y_pred=y_pred)\n",
    "print(\"MAE: {:,.2f}\".format(mae))"
   ]
  },
  {
   "cell_type": "markdown",
   "metadata": {},
   "source": [
    "### R-squared (R<sup>2</sup>)"
   ]
  },
  {
   "cell_type": "code",
   "execution_count": 180,
   "metadata": {
    "scrolled": true
   },
   "outputs": [
    {
     "name": "stdout",
     "output_type": "stream",
     "text": [
      "R-squared: 0.92\n"
     ]
    }
   ],
   "source": [
    "from sklearn.metrics import r2_score\n",
    "r2 = r2_score(y_true=y_test, y_pred=y_pred)\n",
    "print(\"R-squared: {:,.2f}\".format(r2))"
   ]
  },
  {
   "cell_type": "code",
   "execution_count": 65,
   "metadata": {},
   "outputs": [],
   "source": [
    "eval_df = pd.DataFrame({\"y_true\": y_test, \"y_pred\": y_pred, \"residuals\": y_test - y_pred})"
   ]
  },
  {
   "cell_type": "markdown",
   "metadata": {},
   "source": [
    "### Costum metric: Percentage of Predictions Within Acceptable Error"
   ]
  },
  {
   "cell_type": "code",
   "execution_count": 185,
   "metadata": {},
   "outputs": [],
   "source": [
    "eval_df[\"prop_error\"] = eval_df[\"residuals\"].abs()/eval_df[\"y_true\"]"
   ]
  },
  {
   "cell_type": "code",
   "execution_count": 187,
   "metadata": {},
   "outputs": [
    {
     "name": "stdout",
     "output_type": "stream",
     "text": [
      "Costum metric: 39.2%\n"
     ]
    }
   ],
   "source": [
    "costum_metric = 100*(eval_df[\"prop_error\"] < 0.15).mean()\n",
    "print(\"Costum metric: {:,.1f}%\".format(costum_metric))"
   ]
  },
  {
   "cell_type": "markdown",
   "metadata": {},
   "source": [
    "## Visualization methods for evaluating regression models"
   ]
  },
  {
   "cell_type": "markdown",
   "metadata": {},
   "source": [
    "### Distributions of residuals"
   ]
  },
  {
   "cell_type": "code",
   "execution_count": 195,
   "metadata": {},
   "outputs": [
    {
     "data": {
      "image/png": "[encoded data removed]",
      "text/plain": [
       "<Figure size 432x288 with 1 Axes>"
      ]
     },
     "metadata": {},
     "output_type": "display_data"
    }
   ],
   "source": [
    "eval_df[\"residuals\"].hist(bins=25, ec='k');"
   ]
  },
  {
   "cell_type": "code",
   "execution_count": 196,
   "metadata": {},
   "outputs": [
    {
     "data": {
      "text/plain": [
       "0.5928054885963285"
      ]
     },
     "execution_count": 196,
     "metadata": {},
     "output_type": "execute_result"
    }
   ],
   "source": [
    "(eval_df[\"residuals\"] <=0).mean()"
   ]
  },
  {
   "cell_type": "markdown",
   "metadata": {},
   "source": [
    "### Observed vs. predicted values plot"
   ]
  },
  {
   "cell_type": "code",
   "execution_count": 197,
   "metadata": {},
   "outputs": [
    {
     "data": {
      "image/png": "[encoded data removed]",
      "text/plain": [
       "<Figure size 576x360 with 1 Axes>"
      ]
     },
     "metadata": {},
     "output_type": "display_data"
    }
   ],
   "source": [
    "fig, ax = plt.subplots(figsize=(8,5))\n",
    "ax.scatter(eval_df[\"y_true\"], eval_df[\"y_pred\"], s=3)\n",
    "ax.plot(eval_df[\"y_true\"], eval_df[\"y_true\"], color='red')\n",
    "ax.set_title('Predictions vs. observed values', fontsize=16)\n",
    "ax.set_xlabel('Observed prices', fontsize=14)\n",
    "ax.set_ylabel('Predicted prices', fontsize=14)\n",
    "ax.grid();"
   ]
  },
  {
   "cell_type": "code",
   "execution_count": 198,
   "metadata": {},
   "outputs": [
    {
     "data": {
      "text/plain": [
       "39299   -312.643120\n",
       "29808   -140.454585\n",
       "31615   -283.365154\n",
       "2714    -523.867542\n",
       "5045    -569.694449\n",
       "Name: y_pred, dtype: float64"
      ]
     },
     "execution_count": 198,
     "metadata": {},
     "output_type": "execute_result"
    }
   ],
   "source": [
    "eval_df[\"y_pred\"].loc[eval_df[\"y_pred\"]<0][:5]"
   ]
  },
  {
   "cell_type": "markdown",
   "metadata": {},
   "source": [
    "### Predicted values vs. residuals"
   ]
  },
  {
   "cell_type": "code",
   "execution_count": 199,
   "metadata": {},
   "outputs": [
    {
     "data": {
      "image/png": "[encoded data removed]",
      "text/plain": [
       "<Figure size 576x360 with 1 Axes>"
      ]
     },
     "metadata": {},
     "output_type": "display_data"
    }
   ],
   "source": [
    "fig, ax = plt.subplots(figsize=(8,5))\n",
    "ax.scatter(eval_df[\"y_pred\"], eval_df[\"residuals\"], s=3)\n",
    "ax.set_title('Predictions vs. residuals', fontsize=16)\n",
    "ax.set_xlabel('Predictions', fontsize=14)\n",
    "ax.set_ylabel('Residuals', fontsize=14)\n",
    "ax.axhline(color='k'); ax.axvline(color='k');\n",
    "ax.grid();"
   ]
  },
  {
   "cell_type": "markdown",
   "metadata": {},
   "source": [
    "## K-fold cross validation for model evaluation"
   ]
  },
  {
   "cell_type": "code",
   "execution_count": 201,
   "metadata": {},
   "outputs": [
    {
     "name": "stdout",
     "output_type": "stream",
     "text": [
      "MAE: 726.87\n"
     ]
    }
   ],
   "source": [
    "## Train-test split\n",
    "X_train, X_test, y_train, y_test = train_test_split(X, y, test_size=0.1, random_state=2)\n",
    "\n",
    "## Standardize the numeric features \n",
    "scaler = StandardScaler()\n",
    "scaler.fit(X_train[numerical_features])\n",
    "X_train.loc[:, numerical_features] = scaler.fit_transform(X_train[numerical_features])\n",
    "X_test.loc[:, numerical_features] = scaler.transform(X_test[numerical_features])\n",
    "\n",
    "## Model training\n",
    "ml_reg = LinearRegression()\n",
    "ml_reg.fit(X_train, y_train)\n",
    "\n",
    "## Get predictions\n",
    "y_pred = ml_reg.predict(X_test)\n",
    "\n",
    "## Evaluate the model using the same metric\n",
    "mae = mean_absolute_error(y_true=y_test, y_pred=y_pred)\n",
    "print(\"MAE: {:,.2f}\".format(mae))"
   ]
  },
  {
   "cell_type": "code",
   "execution_count": 225,
   "metadata": {},
   "outputs": [
    {
     "data": {
      "text/plain": [
       "array([ 720.83563282,  663.1562278 ,  695.18142822,  950.88984768,\n",
       "       2043.71156001,  890.10617501,  539.98283615,  624.44948736,\n",
       "        584.63334965,  604.29011263])"
      ]
     },
     "execution_count": 225,
     "metadata": {},
     "output_type": "execute_result"
    }
   ],
   "source": [
    "from sklearn.model_selection import cross_validate, RepeatedKFold\n",
    "\n",
    "## Scaling the whole dataset\n",
    "scaler = StandardScaler()\n",
    "scaler.fit(X[numerical_features])\n",
    "X.loc[:, numerical_features] = scaler.fit_transform(X[numerical_features])\n",
    "\n",
    "## 10-fold cv\n",
    "ml_reg = LinearRegression()\n",
    "cv_results = cross_validate(ml_reg, X, y, scoring='neg_mean_absolute_error', cv=10)\n",
    "scores = -1*cv_results['test_score']\n",
    "scores"
   ]
  },
  {
   "cell_type": "code",
   "execution_count": 226,
   "metadata": {},
   "outputs": [
    {
     "data": {
      "text/plain": [
       "831.7236657326697"
      ]
     },
     "execution_count": 226,
     "metadata": {},
     "output_type": "execute_result"
    }
   ],
   "source": [
    "scores.mean()"
   ]
  },
  {
   "cell_type": "code",
   "execution_count": null,
   "metadata": {},
   "outputs": [],
   "source": []
  },
  {
   "cell_type": "code",
   "execution_count": null,
   "metadata": {},
   "outputs": [],
   "source": []
  }
 ],
 "metadata": {
  "kernelspec": {
   "display_name": "Python 3",
   "language": "python",
   "name": "python3"
  },
  "language_info": {
   "codemirror_mode": {
    "name": "ipython",
    "version": 3
   },
   "file_extension": ".py",
   "mimetype": "text/x-python",
   "name": "python",
   "nbconvert_exporter": "python",
   "pygments_lexer": "ipython3",
   "version": "3.6.5"
  }
 },
 "nbformat": 4,
 "nbformat_minor": 2
}
