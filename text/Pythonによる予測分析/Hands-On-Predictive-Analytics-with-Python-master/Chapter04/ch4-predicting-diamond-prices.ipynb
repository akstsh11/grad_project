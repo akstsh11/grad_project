{
 "cells": [
  {
   "cell_type": "markdown",
   "metadata": {},
   "source": [
    "# Predicting Diamond Prices"
   ]
  },
  {
   "cell_type": "markdown",
   "metadata": {},
   "source": [
    "### Importing libraries"
   ]
  },
  {
   "cell_type": "code",
   "execution_count": 1,
   "metadata": {},
   "outputs": [],
   "source": [
    "import numpy as np\n",
    "import pandas as pd\n",
    "import matplotlib.pyplot as plt\n",
    "import seaborn as sns\n",
    "import os\n",
    "%matplotlib inline"
   ]
  },
  {
   "cell_type": "markdown",
   "metadata": {},
   "source": [
    "## Our first Machine Learning model"
   ]
  },
  {
   "cell_type": "code",
   "execution_count": 23,
   "metadata": {},
   "outputs": [],
   "source": [
    "DATA_DIR = '../data'\n",
    "FILE_NAME = 'diamonds.csv'\n",
    "data_path = os.path.join(DATA_DIR, FILE_NAME)\n",
    "diamonds = pd.read_csv(data_path)\n",
    "## Preparation done from Chapter 2\n",
    "diamonds = diamonds.loc[(diamonds['x']>0) | (diamonds['y']>0)]\n",
    "diamonds.loc[11182, 'x'] = diamonds['x'].median()\n",
    "diamonds.loc[11182, 'z'] = diamonds['z'].median()\n",
    "diamonds = diamonds.loc[~((diamonds['y'] > 30) | (diamonds['z'] > 30))]\n",
    "diamonds = pd.concat([diamonds, pd.get_dummies(diamonds['cut'], prefix='cut', drop_first=True)], axis=1)\n",
    "diamonds = pd.concat([diamonds, pd.get_dummies(diamonds['color'], prefix='color', drop_first=True)], axis=1)\n",
    "diamonds = pd.concat([diamonds, pd.get_dummies(diamonds['clarity'], prefix='clarity', drop_first=True)], axis=1)"
   ]
  },
  {
   "cell_type": "code",
   "execution_count": 24,
   "metadata": {},
   "outputs": [
    {
     "data": {
      "text/plain": [
       "4008.0243030179727"
      ]
     },
     "execution_count": 24,
     "metadata": {},
     "output_type": "execute_result"
    }
   ],
   "source": [
    "w = np.mean(diamonds['price']/diamonds['carat'])\n",
    "w"
   ]
  },
  {
   "cell_type": "code",
   "execution_count": 25,
   "metadata": {},
   "outputs": [],
   "source": [
    "def first_ml_model(carat):\n",
    "    return 4008.024 * carat"
   ]
  },
  {
   "cell_type": "code",
   "execution_count": 26,
   "metadata": {},
   "outputs": [
    {
     "data": {
      "text/html": [
       "<div>\n",
       "<style scoped>\n",
       "    .dataframe tbody tr th:only-of-type {\n",
       "        vertical-align: middle;\n",
       "    }\n",
       "\n",
       "    .dataframe tbody tr th {\n",
       "        vertical-align: top;\n",
       "    }\n",
       "\n",
       "    .dataframe thead th {\n",
       "        text-align: right;\n",
       "    }\n",
       "</style>\n",
       "<table border=\"1\" class=\"dataframe\">\n",
       "  <thead>\n",
       "    <tr style=\"text-align: right;\">\n",
       "      <th></th>\n",
       "      <th>Carat</th>\n",
       "      <th>Predicted price</th>\n",
       "    </tr>\n",
       "  </thead>\n",
       "  <tbody>\n",
       "    <tr>\n",
       "      <th>0</th>\n",
       "      <td>0.5</td>\n",
       "      <td>2004.012</td>\n",
       "    </tr>\n",
       "    <tr>\n",
       "      <th>1</th>\n",
       "      <td>1.0</td>\n",
       "      <td>4008.024</td>\n",
       "    </tr>\n",
       "    <tr>\n",
       "      <th>2</th>\n",
       "      <td>1.5</td>\n",
       "      <td>6012.036</td>\n",
       "    </tr>\n",
       "    <tr>\n",
       "      <th>3</th>\n",
       "      <td>2.0</td>\n",
       "      <td>8016.048</td>\n",
       "    </tr>\n",
       "    <tr>\n",
       "      <th>4</th>\n",
       "      <td>2.5</td>\n",
       "      <td>10020.060</td>\n",
       "    </tr>\n",
       "    <tr>\n",
       "      <th>5</th>\n",
       "      <td>3.0</td>\n",
       "      <td>12024.072</td>\n",
       "    </tr>\n",
       "    <tr>\n",
       "      <th>6</th>\n",
       "      <td>3.5</td>\n",
       "      <td>14028.084</td>\n",
       "    </tr>\n",
       "    <tr>\n",
       "      <th>7</th>\n",
       "      <td>4.0</td>\n",
       "      <td>16032.096</td>\n",
       "    </tr>\n",
       "    <tr>\n",
       "      <th>8</th>\n",
       "      <td>4.5</td>\n",
       "      <td>18036.108</td>\n",
       "    </tr>\n",
       "    <tr>\n",
       "      <th>9</th>\n",
       "      <td>5.0</td>\n",
       "      <td>20040.120</td>\n",
       "    </tr>\n",
       "  </tbody>\n",
       "</table>\n",
       "</div>"
      ],
      "text/plain": [
       "   Carat  Predicted price\n",
       "0    0.5         2004.012\n",
       "1    1.0         4008.024\n",
       "2    1.5         6012.036\n",
       "3    2.0         8016.048\n",
       "4    2.5        10020.060\n",
       "5    3.0        12024.072\n",
       "6    3.5        14028.084\n",
       "7    4.0        16032.096\n",
       "8    4.5        18036.108\n",
       "9    5.0        20040.120"
      ]
     },
     "execution_count": 26,
     "metadata": {},
     "output_type": "execute_result"
    }
   ],
   "source": [
    "carat_values = np.arange(0.5, 5.5, 0.5)\n",
    "preds = first_ml_model(carat_values)\n",
    "pd.DataFrame({\"Carat\": carat_values, \"Predicted price\":preds})"
   ]
  },
  {
   "cell_type": "markdown",
   "metadata": {},
   "source": [
    "## Practical Considerations Before Modelling"
   ]
  },
  {
   "cell_type": "markdown",
   "metadata": {},
   "source": [
    "### Train-test split"
   ]
  },
  {
   "cell_type": "code",
   "execution_count": 28,
   "metadata": {},
   "outputs": [],
   "source": [
    "X = diamonds.drop(['cut','color','clarity','price'], axis=1)\n",
    "y = diamonds['price']"
   ]
  },
  {
   "cell_type": "code",
   "execution_count": 27,
   "metadata": {},
   "outputs": [],
   "source": [
    "from sklearn.model_selection import train_test_split\n",
    "X_train, X_test, y_train, y_test = train_test_split(X, y, test_size=0.1, random_state=123)"
   ]
  },
  {
   "cell_type": "markdown",
   "metadata": {},
   "source": [
    "### Dimensionality reduction using PCA  "
   ]
  },
  {
   "cell_type": "code",
   "execution_count": 29,
   "metadata": {},
   "outputs": [
    {
     "data": {
      "image/png": "[encoded data removed]",
      "text/plain": [
       "<Figure size 540x540 with 12 Axes>"
      ]
     },
     "metadata": {},
     "output_type": "display_data"
    }
   ],
   "source": [
    "sns.pairplot(X_train[['x','y','z']], plot_kws={\"s\": 3});"
   ]
  },
  {
   "cell_type": "code",
   "execution_count": 32,
   "metadata": {},
   "outputs": [],
   "source": [
    "# 1. Import the class you will use\n",
    "from sklearn.decomposition import PCA\n",
    "# 2. Create an instance of the class\n",
    "pca = PCA(n_components=3, random_state=123)\n",
    "# 3. Use the fit method of the instance\n",
    "pca.fit(X_train[['x','y','z']])\n",
    "# 4. Use the transform method to perform the transformation\n",
    "princ_comp = pca.transform(X_train[['x','y','z']])"
   ]
  },
  {
   "cell_type": "code",
   "execution_count": 33,
   "metadata": {},
   "outputs": [
    {
     "data": {
      "text/plain": [
       "array([0.997, 0.002, 0.001])"
      ]
     },
     "execution_count": 33,
     "metadata": {},
     "output_type": "execute_result"
    }
   ],
   "source": [
    "pca.explained_variance_ratio_.round(3)"
   ]
  },
  {
   "cell_type": "code",
   "execution_count": 34,
   "metadata": {},
   "outputs": [
    {
     "data": {
      "image/png": "[encoded data removed]",
      "text/plain": [
       "<Figure size 540x540 with 12 Axes>"
      ]
     },
     "metadata": {},
     "output_type": "display_data"
    }
   ],
   "source": [
    "princ_comp = pd.DataFrame(data=princ_comp, columns=['pc1', 'pc2', 'pc3'])\n",
    "sns.pairplot(princ_comp, plot_kws={\"s\": 3});"
   ]
  },
  {
   "cell_type": "code",
   "execution_count": 36,
   "metadata": {},
   "outputs": [
    {
     "data": {
      "text/html": [
       "<div>\n",
       "<style scoped>\n",
       "    .dataframe tbody tr th:only-of-type {\n",
       "        vertical-align: middle;\n",
       "    }\n",
       "\n",
       "    .dataframe tbody tr th {\n",
       "        vertical-align: top;\n",
       "    }\n",
       "\n",
       "    .dataframe thead th {\n",
       "        text-align: right;\n",
       "    }\n",
       "</style>\n",
       "<table border=\"1\" class=\"dataframe\">\n",
       "  <thead>\n",
       "    <tr style=\"text-align: right;\">\n",
       "      <th></th>\n",
       "      <th>pc1</th>\n",
       "      <th>pc2</th>\n",
       "      <th>pc3</th>\n",
       "    </tr>\n",
       "  </thead>\n",
       "  <tbody>\n",
       "    <tr>\n",
       "      <th>pc1</th>\n",
       "      <td>1.0</td>\n",
       "      <td>0.0</td>\n",
       "      <td>0.0</td>\n",
       "    </tr>\n",
       "    <tr>\n",
       "      <th>pc2</th>\n",
       "      <td>0.0</td>\n",
       "      <td>1.0</td>\n",
       "      <td>0.0</td>\n",
       "    </tr>\n",
       "    <tr>\n",
       "      <th>pc3</th>\n",
       "      <td>0.0</td>\n",
       "      <td>0.0</td>\n",
       "      <td>1.0</td>\n",
       "    </tr>\n",
       "  </tbody>\n",
       "</table>\n",
       "</div>"
      ],
      "text/plain": [
       "     pc1  pc2  pc3\n",
       "pc1  1.0  0.0  0.0\n",
       "pc2  0.0  1.0  0.0\n",
       "pc3  0.0  0.0  1.0"
      ]
     },
     "execution_count": 36,
     "metadata": {},
     "output_type": "execute_result"
    }
   ],
   "source": [
    "princ_comp.corr().round(4)"
   ]
  },
  {
   "cell_type": "code",
   "execution_count": 37,
   "metadata": {
    "scrolled": true
   },
   "outputs": [],
   "source": [
    "## Get only the first principal component\n",
    "pca = PCA(n_components=1, random_state=123)\n",
    "## Train the pca transformer\n",
    "pca.fit(X_train[['x','y','z']])\n",
    "# Add the new feature to the dataset\n",
    "X_train['dim_index'] = pca.transform(X_train[['x','y','z']]).flatten()\n",
    "# Drop x, y, and z\n",
    "X_train.drop(['x','y','z'], axis=1, inplace=True)"
   ]
  },
  {
   "cell_type": "markdown",
   "metadata": {},
   "source": [
    "### Standarization: centering and scaling "
   ]
  },
  {
   "cell_type": "code",
   "execution_count": 40,
   "metadata": {},
   "outputs": [],
   "source": [
    "numerical_features = ['carat', 'depth', 'table', 'dim_index']"
   ]
  },
  {
   "cell_type": "code",
   "execution_count": 41,
   "metadata": {
    "scrolled": true
   },
   "outputs": [],
   "source": [
    "# 1. Import the class you will use\n",
    "from sklearn.preprocessing import StandardScaler\n",
    "# 2. Create an instance of the class\n",
    "scaler = StandardScaler()\n",
    "# 3. Use the fit method of the instance\n",
    "scaler.fit(X_train[numerical_features])\n",
    "# 4. Use the transform method to perform the transformation\n",
    "X_train.loc[:, numerical_features] = scaler.transform(X_train[numerical_features])"
   ]
  },
  {
   "cell_type": "code",
   "execution_count": 42,
   "metadata": {},
   "outputs": [
    {
     "data": {
      "text/html": [
       "<div>\n",
       "<style scoped>\n",
       "    .dataframe tbody tr th:only-of-type {\n",
       "        vertical-align: middle;\n",
       "    }\n",
       "\n",
       "    .dataframe tbody tr th {\n",
       "        vertical-align: top;\n",
       "    }\n",
       "\n",
       "    .dataframe thead th {\n",
       "        text-align: right;\n",
       "    }\n",
       "</style>\n",
       "<table border=\"1\" class=\"dataframe\">\n",
       "  <thead>\n",
       "    <tr style=\"text-align: right;\">\n",
       "      <th></th>\n",
       "      <th>carat</th>\n",
       "      <th>depth</th>\n",
       "      <th>table</th>\n",
       "      <th>dim_index</th>\n",
       "    </tr>\n",
       "  </thead>\n",
       "  <tbody>\n",
       "    <tr>\n",
       "      <th>30066</th>\n",
       "      <td>-0.840293</td>\n",
       "      <td>1.429309</td>\n",
       "      <td>-0.205642</td>\n",
       "      <td>-0.918724</td>\n",
       "    </tr>\n",
       "    <tr>\n",
       "      <th>17608</th>\n",
       "      <td>0.677534</td>\n",
       "      <td>0.383359</td>\n",
       "      <td>-2.001069</td>\n",
       "      <td>0.848719</td>\n",
       "    </tr>\n",
       "    <tr>\n",
       "      <th>42508</th>\n",
       "      <td>-0.629484</td>\n",
       "      <td>0.034709</td>\n",
       "      <td>-0.205642</td>\n",
       "      <td>-0.568908</td>\n",
       "    </tr>\n",
       "    <tr>\n",
       "      <th>22842</th>\n",
       "      <td>0.719696</td>\n",
       "      <td>-0.662591</td>\n",
       "      <td>0.243215</td>\n",
       "      <td>0.908842</td>\n",
       "    </tr>\n",
       "    <tr>\n",
       "      <th>25957</th>\n",
       "      <td>2.553737</td>\n",
       "      <td>-1.987460</td>\n",
       "      <td>2.487499</td>\n",
       "      <td>2.147581</td>\n",
       "    </tr>\n",
       "  </tbody>\n",
       "</table>\n",
       "</div>"
      ],
      "text/plain": [
       "          carat     depth     table  dim_index\n",
       "30066 -0.840293  1.429309 -0.205642  -0.918724\n",
       "17608  0.677534  0.383359 -2.001069   0.848719\n",
       "42508 -0.629484  0.034709 -0.205642  -0.568908\n",
       "22842  0.719696 -0.662591  0.243215   0.908842\n",
       "25957  2.553737 -1.987460  2.487499   2.147581"
      ]
     },
     "execution_count": 42,
     "metadata": {},
     "output_type": "execute_result"
    }
   ],
   "source": [
    "X_train[numerical_features].head()"
   ]
  },
  {
   "cell_type": "code",
   "execution_count": 44,
   "metadata": {},
   "outputs": [
    {
     "data": {
      "text/html": [
       "<div>\n",
       "<style scoped>\n",
       "    .dataframe tbody tr th:only-of-type {\n",
       "        vertical-align: middle;\n",
       "    }\n",
       "\n",
       "    .dataframe tbody tr th {\n",
       "        vertical-align: top;\n",
       "    }\n",
       "\n",
       "    .dataframe thead th {\n",
       "        text-align: right;\n",
       "    }\n",
       "</style>\n",
       "<table border=\"1\" class=\"dataframe\">\n",
       "  <thead>\n",
       "    <tr style=\"text-align: right;\">\n",
       "      <th></th>\n",
       "      <th>carat</th>\n",
       "      <th>depth</th>\n",
       "      <th>table</th>\n",
       "      <th>dim_index</th>\n",
       "    </tr>\n",
       "  </thead>\n",
       "  <tbody>\n",
       "    <tr>\n",
       "      <th>count</th>\n",
       "      <td>48537.0000</td>\n",
       "      <td>48537.0000</td>\n",
       "      <td>48537.0000</td>\n",
       "      <td>48537.0000</td>\n",
       "    </tr>\n",
       "    <tr>\n",
       "      <th>mean</th>\n",
       "      <td>-0.0000</td>\n",
       "      <td>-0.0000</td>\n",
       "      <td>-0.0000</td>\n",
       "      <td>0.0000</td>\n",
       "    </tr>\n",
       "    <tr>\n",
       "      <th>std</th>\n",
       "      <td>1.0000</td>\n",
       "      <td>1.0000</td>\n",
       "      <td>1.0000</td>\n",
       "      <td>1.0000</td>\n",
       "    </tr>\n",
       "    <tr>\n",
       "      <th>min</th>\n",
       "      <td>-1.2619</td>\n",
       "      <td>-13.0745</td>\n",
       "      <td>-6.4896</td>\n",
       "      <td>-1.8151</td>\n",
       "    </tr>\n",
       "    <tr>\n",
       "      <th>25%</th>\n",
       "      <td>-0.8403</td>\n",
       "      <td>-0.5231</td>\n",
       "      <td>-0.6545</td>\n",
       "      <td>-0.9077</td>\n",
       "    </tr>\n",
       "    <tr>\n",
       "      <th>50%</th>\n",
       "      <td>-0.2079</td>\n",
       "      <td>0.0347</td>\n",
       "      <td>-0.2056</td>\n",
       "      <td>-0.0236</td>\n",
       "    </tr>\n",
       "    <tr>\n",
       "      <th>75%</th>\n",
       "      <td>0.5089</td>\n",
       "      <td>0.5228</td>\n",
       "      <td>0.6921</td>\n",
       "      <td>0.7115</td>\n",
       "    </tr>\n",
       "    <tr>\n",
       "      <th>max</th>\n",
       "      <td>8.8780</td>\n",
       "      <td>12.0283</td>\n",
       "      <td>9.6692</td>\n",
       "      <td>4.4957</td>\n",
       "    </tr>\n",
       "  </tbody>\n",
       "</table>\n",
       "</div>"
      ],
      "text/plain": [
       "            carat       depth       table   dim_index\n",
       "count  48537.0000  48537.0000  48537.0000  48537.0000\n",
       "mean      -0.0000     -0.0000     -0.0000      0.0000\n",
       "std        1.0000      1.0000      1.0000      1.0000\n",
       "min       -1.2619    -13.0745     -6.4896     -1.8151\n",
       "25%       -0.8403     -0.5231     -0.6545     -0.9077\n",
       "50%       -0.2079      0.0347     -0.2056     -0.0236\n",
       "75%        0.5089      0.5228      0.6921      0.7115\n",
       "max        8.8780     12.0283      9.6692      4.4957"
      ]
     },
     "execution_count": 44,
     "metadata": {},
     "output_type": "execute_result"
    }
   ],
   "source": [
    "X_train[numerical_features].describe().round(4)"
   ]
  },
  {
   "cell_type": "markdown",
   "metadata": {},
   "source": [
    "## Multiple Linear Regression"
   ]
  },
  {
   "cell_type": "code",
   "execution_count": 45,
   "metadata": {},
   "outputs": [],
   "source": [
    "# 1. Import the Estimator class you will use\n",
    "from sklearn.linear_model import LinearRegression\n",
    "# 2. Create an instance of the class\n",
    "ml_reg = LinearRegression()\n",
    "# 3. Use the fit method of the instance\n",
    "ml_reg.fit(X_train, y_train)\n",
    "# 4. Use the predict method to get the predictions\n",
    "y_pred_ml_reg = ml_reg.predict(X_train)"
   ]
  },
  {
   "cell_type": "code",
   "execution_count": 46,
   "metadata": {},
   "outputs": [
    {
     "data": {
      "text/plain": [
       "carat            5422.04\n",
       "clarity_IF       5384.93\n",
       "clarity_VVS1     5040.24\n",
       "clarity_VVS2     4993.61\n",
       "clarity_VS1      4616.93\n",
       "clarity_VS2      4303.06\n",
       "clarity_SI1      3704.82\n",
       "clarity_SI2      2740.18\n",
       "cut_Ideal         856.23\n",
       "cut_Premium       756.77\n",
       "cut_Very Good     756.17\n",
       "cut_Good          609.70\n",
       "table             -59.04\n",
       "depth             -80.63\n",
       "color_E          -217.07\n",
       "color_F          -276.78\n",
       "color_G          -489.66\n",
       "color_H          -991.01\n",
       "dim_index       -1235.23\n",
       "color_I         -1480.56\n",
       "color_J         -2384.35\n",
       "dtype: float64"
      ]
     },
     "execution_count": 46,
     "metadata": {},
     "output_type": "execute_result"
    }
   ],
   "source": [
    "pd.Series(ml_reg.coef_, index=X_train.columns).sort_values(ascending=False).round(2)"
   ]
  },
  {
   "cell_type": "code",
   "execution_count": 47,
   "metadata": {},
   "outputs": [
    {
     "data": {
      "text/plain": [
       "clarity_IF       5148.67\n",
       "clarity_VVS1     4790.55\n",
       "clarity_VVS2     4598.87\n",
       "dim_index        4037.32\n",
       "clarity_VS1      4006.20\n",
       "clarity_VS2      3711.01\n",
       "clarity_SI1      2975.99\n",
       "clarity_SI2      2210.70\n",
       "cut_Premium       934.69\n",
       "cut_Ideal         923.11\n",
       "cut_Very Good     811.81\n",
       "cut_Good          607.89\n",
       "depth             136.90\n",
       "table              -6.19\n",
       "color_E          -212.55\n",
       "color_F          -361.49\n",
       "color_G          -503.53\n",
       "color_H          -814.98\n",
       "color_I         -1111.87\n",
       "color_J         -1876.45\n",
       "dtype: float64"
      ]
     },
     "execution_count": 47,
     "metadata": {},
     "output_type": "execute_result"
    }
   ],
   "source": [
    "# training the model without carat\n",
    "ml_reg.fit(X_train.drop('carat', axis=1), y_train)\n",
    "pd.Series(ml_reg.coef_, index=X_train.drop('carat', axis=1).columns).sort_values(ascending=False).round(2)"
   ]
  },
  {
   "cell_type": "code",
   "execution_count": 48,
   "metadata": {},
   "outputs": [
    {
     "data": {
      "text/plain": [
       "LinearRegression(copy_X=True, fit_intercept=True, n_jobs=1, normalize=False)"
      ]
     },
     "execution_count": 48,
     "metadata": {},
     "output_type": "execute_result"
    }
   ],
   "source": [
    "# re-training the model with all features again.\n",
    "ml_reg.fit(X_train, y_train)"
   ]
  },
  {
   "cell_type": "code",
   "execution_count": 49,
   "metadata": {},
   "outputs": [
    {
     "name": "stdout",
     "output_type": "stream",
     "text": [
      "1.28M\n"
     ]
    }
   ],
   "source": [
    "from sklearn.metrics import mean_squared_error\n",
    "mse_ml_reg = mean_squared_error(y_true=y_train, y_pred=y_pred_ml_reg)\n",
    "print('{:0.2f}M'.format(mse_ml_reg/1e6))"
   ]
  },
  {
   "cell_type": "code",
   "execution_count": 50,
   "metadata": {},
   "outputs": [
    {
     "name": "stdout",
     "output_type": "stream",
     "text": [
      "15.92M\n"
     ]
    }
   ],
   "source": [
    "y_pred_null_model = np.full(y_train.shape, y_train.mean())\n",
    "mse_null_model = mean_squared_error(y_true=y_train, y_pred=y_pred_null_model)\n",
    "print('{:0.2f}M'.format(mse_null_model/1e6))"
   ]
  },
  {
   "cell_type": "markdown",
   "metadata": {},
   "source": [
    "## Lasso regression"
   ]
  },
  {
   "cell_type": "code",
   "execution_count": 51,
   "metadata": {},
   "outputs": [
    {
     "name": "stdout",
     "output_type": "stream",
     "text": [
      "1.52M\n"
     ]
    }
   ],
   "source": [
    "# 1. Import the Estimator class you will use\n",
    "from sklearn.linear_model import Lasso\n",
    "# 2. Create an instance of the class\n",
    "lasso = Lasso(alpha=10)\n",
    "# 3. Use the fit method of the instance\n",
    "lasso.fit(X_train, y_train)\n",
    "# 4. Use the predict method to get the predictions\n",
    "y_pred_lasso = lasso.predict(X_train)\n",
    "\n",
    "## MSE calculation\n",
    "mse_lasso = mean_squared_error(y_true=y_train, y_pred=y_pred_lasso)\n",
    "print('{:0.2f}M'.format(mse_lasso/1e6))"
   ]
  },
  {
   "cell_type": "code",
   "execution_count": 52,
   "metadata": {},
   "outputs": [
    {
     "data": {
      "text/plain": [
       "carat            4766.29\n",
       "clarity_IF       1348.44\n",
       "clarity_VVS2     1213.08\n",
       "clarity_VVS1     1194.84\n",
       "clarity_VS1       860.32\n",
       "clarity_VS2       616.93\n",
       "cut_Ideal         169.10\n",
       "cut_Very Good      89.01\n",
       "cut_Premium        55.05\n",
       "clarity_SI1        33.97\n",
       "cut_Good           -0.00\n",
       "color_F            -0.00\n",
       "color_E             0.00\n",
       "table            -103.99\n",
       "color_G          -124.79\n",
       "depth            -145.90\n",
       "color_H          -609.87\n",
       "dim_index        -708.54\n",
       "clarity_SI2      -768.25\n",
       "color_I         -1001.55\n",
       "color_J         -1780.44\n",
       "dtype: float64"
      ]
     },
     "execution_count": 52,
     "metadata": {},
     "output_type": "execute_result"
    }
   ],
   "source": [
    "pd.Series(lasso.coef_, index=X_train.columns).sort_values(ascending=False).round(2)"
   ]
  },
  {
   "cell_type": "markdown",
   "metadata": {},
   "source": [
    "### KNN Regression"
   ]
  },
  {
   "cell_type": "code",
   "execution_count": 53,
   "metadata": {},
   "outputs": [],
   "source": [
    "# 1. Import the Estimator class you will use\n",
    "from sklearn.neighbors import KNeighborsRegressor\n",
    "# 2. Create an instance of the class\n",
    "knn = KNeighborsRegressor(n_neighbors=12)\n",
    "# 3. Use the fit method of the instance\n",
    "knn.fit(X_train, y_train)\n",
    "# 4. Use the predict method to get the predictions\n",
    "y_pred_knn = knn.predict(X_train)"
   ]
  },
  {
   "cell_type": "code",
   "execution_count": 54,
   "metadata": {},
   "outputs": [
    {
     "name": "stdout",
     "output_type": "stream",
     "text": [
      "0.67M\n"
     ]
    }
   ],
   "source": [
    "mse_knn = mean_squared_error(y_true=y_train, y_pred=y_pred_knn)\n",
    "print('{:0.2f}M'.format(mse_knn/1e6))"
   ]
  },
  {
   "cell_type": "markdown",
   "metadata": {},
   "source": [
    "## Evaluating in the testing dataset"
   ]
  },
  {
   "cell_type": "markdown",
   "metadata": {},
   "source": [
    "### KNN with perfect performance"
   ]
  },
  {
   "cell_type": "code",
   "execution_count": 55,
   "metadata": {},
   "outputs": [
    {
     "data": {
      "text/plain": [
       "148.9197519418176"
      ]
     },
     "execution_count": 55,
     "metadata": {},
     "output_type": "execute_result"
    }
   ],
   "source": [
    "perfect_knn = KNeighborsRegressor(n_neighbors=1)\n",
    "perfect_knn.fit(X_train, y_train)\n",
    "mean_squared_error(y_true=y_train, y_pred=perfect_knn.predict(X_train))"
   ]
  },
  {
   "cell_type": "markdown",
   "metadata": {},
   "source": [
    "### Applying the tranformations"
   ]
  },
  {
   "cell_type": "code",
   "execution_count": 56,
   "metadata": {},
   "outputs": [],
   "source": [
    "## Replacing x, y, z with dim_index using PCA: notice we are not training, just transforming\n",
    "X_test['dim_index'] = pca.transform(X_test[['x','y','z']]).flatten()\n",
    "\n",
    "# Remove x, y and z from the dataset\n",
    "X_test.drop(['x','y','z'], axis=1, inplace=True)\n",
    "\n",
    "## Scale our numerical features so they have zero mean and a variance of one\n",
    "X_test.loc[:, numerical_features] = scaler.transform(X_test[numerical_features])"
   ]
  },
  {
   "cell_type": "code",
   "execution_count": 57,
   "metadata": {},
   "outputs": [],
   "source": [
    "mse = pd.DataFrame(columns=['train', 'test'], index=['MLR','Lasso','KNN'])\n",
    "model_dict = {'MLR': ml_reg, 'Lasso': lasso, 'KNN': knn}\n",
    "for name, model in model_dict.items():\n",
    "    mse.loc[name, 'train'] = mean_squared_error(y_true=y_train, y_pred=model.predict(X_train))/1e6 \n",
    "    mse.loc[name, 'test'] = mean_squared_error(y_true=y_test, y_pred=model.predict(X_test))/1e6\n",
    "    "
   ]
  },
  {
   "cell_type": "code",
   "execution_count": 58,
   "metadata": {},
   "outputs": [
    {
     "data": {
      "text/html": [
       "<div>\n",
       "<style scoped>\n",
       "    .dataframe tbody tr th:only-of-type {\n",
       "        vertical-align: middle;\n",
       "    }\n",
       "\n",
       "    .dataframe tbody tr th {\n",
       "        vertical-align: top;\n",
       "    }\n",
       "\n",
       "    .dataframe thead th {\n",
       "        text-align: right;\n",
       "    }\n",
       "</style>\n",
       "<table border=\"1\" class=\"dataframe\">\n",
       "  <thead>\n",
       "    <tr style=\"text-align: right;\">\n",
       "      <th></th>\n",
       "      <th>train</th>\n",
       "      <th>test</th>\n",
       "    </tr>\n",
       "  </thead>\n",
       "  <tbody>\n",
       "    <tr>\n",
       "      <th>MLR</th>\n",
       "      <td>1.28101</td>\n",
       "      <td>1.20721</td>\n",
       "    </tr>\n",
       "    <tr>\n",
       "      <th>Lasso</th>\n",
       "      <td>1.52062</td>\n",
       "      <td>1.40893</td>\n",
       "    </tr>\n",
       "    <tr>\n",
       "      <th>KNN</th>\n",
       "      <td>0.670249</td>\n",
       "      <td>0.780698</td>\n",
       "    </tr>\n",
       "  </tbody>\n",
       "</table>\n",
       "</div>"
      ],
      "text/plain": [
       "          train      test\n",
       "MLR     1.28101   1.20721\n",
       "Lasso   1.52062   1.40893\n",
       "KNN    0.670249  0.780698"
      ]
     },
     "execution_count": 58,
     "metadata": {},
     "output_type": "execute_result"
    }
   ],
   "source": [
    "mse"
   ]
  },
  {
   "cell_type": "code",
   "execution_count": 59,
   "metadata": {},
   "outputs": [
    {
     "data": {
      "image/png": "[encoded data removed]",
      "text/plain": [
       "<Figure size 432x288 with 1 Axes>"
      ]
     },
     "metadata": {},
     "output_type": "display_data"
    }
   ],
   "source": [
    "fig, ax = plt.subplots()\n",
    "mse.sort_values(by='test', ascending=False).plot(kind='barh', ax=ax, zorder=3)\n",
    "ax.grid(zorder=0)"
   ]
  },
  {
   "cell_type": "code",
   "execution_count": 60,
   "metadata": {},
   "outputs": [
    {
     "data": {
      "text/html": [
       "<div>\n",
       "<style scoped>\n",
       "    .dataframe tbody tr th:only-of-type {\n",
       "        vertical-align: middle;\n",
       "    }\n",
       "\n",
       "    .dataframe tbody tr th {\n",
       "        vertical-align: top;\n",
       "    }\n",
       "\n",
       "    .dataframe thead th {\n",
       "        text-align: right;\n",
       "    }\n",
       "</style>\n",
       "<table border=\"1\" class=\"dataframe\">\n",
       "  <thead>\n",
       "    <tr style=\"text-align: right;\">\n",
       "      <th></th>\n",
       "      <th>y_true</th>\n",
       "      <th>pred_MLR</th>\n",
       "      <th>pred_Lasso</th>\n",
       "      <th>pred_KNN</th>\n",
       "    </tr>\n",
       "  </thead>\n",
       "  <tbody>\n",
       "    <tr>\n",
       "      <th>8549</th>\n",
       "      <td>4434</td>\n",
       "      <td>4638.0</td>\n",
       "      <td>4993.4</td>\n",
       "      <td>4172.9</td>\n",
       "    </tr>\n",
       "    <tr>\n",
       "      <th>27123</th>\n",
       "      <td>17313</td>\n",
       "      <td>15503.2</td>\n",
       "      <td>14918.2</td>\n",
       "      <td>14771.3</td>\n",
       "    </tr>\n",
       "    <tr>\n",
       "      <th>40907</th>\n",
       "      <td>1179</td>\n",
       "      <td>1603.1</td>\n",
       "      <td>1611.9</td>\n",
       "      <td>1092.5</td>\n",
       "    </tr>\n",
       "    <tr>\n",
       "      <th>1375</th>\n",
       "      <td>2966</td>\n",
       "      <td>3063.0</td>\n",
       "      <td>3299.2</td>\n",
       "      <td>2915.8</td>\n",
       "    </tr>\n",
       "    <tr>\n",
       "      <th>41673</th>\n",
       "      <td>1240</td>\n",
       "      <td>1859.6</td>\n",
       "      <td>1567.7</td>\n",
       "      <td>978.0</td>\n",
       "    </tr>\n",
       "    <tr>\n",
       "      <th>35461</th>\n",
       "      <td>901</td>\n",
       "      <td>1700.1</td>\n",
       "      <td>1329.1</td>\n",
       "      <td>1158.1</td>\n",
       "    </tr>\n",
       "    <tr>\n",
       "      <th>30655</th>\n",
       "      <td>736</td>\n",
       "      <td>1086.4</td>\n",
       "      <td>689.6</td>\n",
       "      <td>754.6</td>\n",
       "    </tr>\n",
       "    <tr>\n",
       "      <th>10271</th>\n",
       "      <td>4752</td>\n",
       "      <td>6010.9</td>\n",
       "      <td>6042.6</td>\n",
       "      <td>4970.2</td>\n",
       "    </tr>\n",
       "    <tr>\n",
       "      <th>28928</th>\n",
       "      <td>684</td>\n",
       "      <td>904.1</td>\n",
       "      <td>762.3</td>\n",
       "      <td>753.5</td>\n",
       "    </tr>\n",
       "    <tr>\n",
       "      <th>26351</th>\n",
       "      <td>645</td>\n",
       "      <td>704.7</td>\n",
       "      <td>651.4</td>\n",
       "      <td>722.9</td>\n",
       "    </tr>\n",
       "  </tbody>\n",
       "</table>\n",
       "</div>"
      ],
      "text/plain": [
       "       y_true  pred_MLR  pred_Lasso  pred_KNN\n",
       "8549     4434    4638.0      4993.4    4172.9\n",
       "27123   17313   15503.2     14918.2   14771.3\n",
       "40907    1179    1603.1      1611.9    1092.5\n",
       "1375     2966    3063.0      3299.2    2915.8\n",
       "41673    1240    1859.6      1567.7     978.0\n",
       "35461     901    1700.1      1329.1    1158.1\n",
       "30655     736    1086.4       689.6     754.6\n",
       "10271    4752    6010.9      6042.6    4970.2\n",
       "28928     684     904.1       762.3     753.5\n",
       "26351     645     704.7       651.4     722.9"
      ]
     },
     "execution_count": 60,
     "metadata": {},
     "output_type": "execute_result"
    }
   ],
   "source": [
    "demo_pred = X_test.iloc[:10].copy()\n",
    "pred_dict = {'y_true':y_test[:10]}\n",
    "for name, model in model_dict.items():\n",
    "    pred_dict['pred_'+name] = model.predict(demo_pred).round(1)\n",
    "\n",
    "pd.DataFrame(pred_dict)"
   ]
  },
  {
   "cell_type": "code",
   "execution_count": null,
   "metadata": {},
   "outputs": [],
   "source": []
  },
  {
   "cell_type": "code",
   "execution_count": null,
   "metadata": {},
   "outputs": [],
   "source": []
  },
  {
   "cell_type": "code",
   "execution_count": null,
   "metadata": {},
   "outputs": [],
   "source": []
  },
  {
   "cell_type": "code",
   "execution_count": null,
   "metadata": {},
   "outputs": [],
   "source": []
  }
 ],
 "metadata": {
  "kernelspec": {
   "display_name": "Python 3",
   "language": "python",
   "name": "python3"
  },
  "language_info": {
   "codemirror_mode": {
    "name": "ipython",
    "version": 3
   },
   "file_extension": ".py",
   "mimetype": "text/x-python",
   "name": "python",
   "nbconvert_exporter": "python",
   "pygments_lexer": "ipython3",
   "version": "3.6.5"
  }
 },
 "nbformat": 4,
 "nbformat_minor": 2
}
