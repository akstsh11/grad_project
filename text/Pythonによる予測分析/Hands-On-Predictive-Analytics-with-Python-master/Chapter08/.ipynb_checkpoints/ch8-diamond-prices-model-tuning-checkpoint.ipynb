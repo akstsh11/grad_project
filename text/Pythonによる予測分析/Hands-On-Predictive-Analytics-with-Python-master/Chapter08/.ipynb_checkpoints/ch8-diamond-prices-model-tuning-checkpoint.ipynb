{
 "cells": [
  {
   "cell_type": "markdown",
   "metadata": {},
   "source": [
    "# Diamond Prices: Model Tuning and Improving Performance"
   ]
  },
  {
   "cell_type": "markdown",
   "metadata": {},
   "source": [
    "#### Importing libraries"
   ]
  },
  {
   "cell_type": "code",
   "execution_count": 1,
   "metadata": {},
   "outputs": [],
   "source": [
    "import numpy as np\n",
    "import pandas as pd\n",
    "import matplotlib.pyplot as plt\n",
    "import seaborn as sns\n",
    "import os\n",
    "\n",
    "pd.options.mode.chained_assignment = None\n",
    "%matplotlib inline"
   ]
  },
  {
   "cell_type": "markdown",
   "metadata": {},
   "source": [
    "#### Loading the dataset"
   ]
  },
  {
   "cell_type": "code",
   "execution_count": 2,
   "metadata": {},
   "outputs": [],
   "source": [
    "DATA_DIR = '../data'\n",
    "FILE_NAME = 'diamonds.csv'\n",
    "data_path = os.path.join(DATA_DIR, FILE_NAME)\n",
    "diamonds = pd.read_csv(data_path)"
   ]
  },
  {
   "cell_type": "markdown",
   "metadata": {},
   "source": [
    "#### Preparing the dataset"
   ]
  },
  {
   "cell_type": "code",
   "execution_count": 3,
   "metadata": {},
   "outputs": [],
   "source": [
    "## Preparation done from Chapter 2\n",
    "diamonds = diamonds.loc[(diamonds['x']>0) | (diamonds['y']>0)]\n",
    "diamonds.loc[11182, 'x'] = diamonds['x'].median()\n",
    "diamonds.loc[11182, 'z'] = diamonds['z'].median()\n",
    "diamonds = diamonds.loc[~((diamonds['y'] > 30) | (diamonds['z'] > 30))]\n",
    "diamonds = pd.concat([diamonds, pd.get_dummies(diamonds['cut'], prefix='cut', drop_first=True)], axis=1)\n",
    "diamonds = pd.concat([diamonds, pd.get_dummies(diamonds['color'], prefix='color', drop_first=True)], axis=1)\n",
    "diamonds = pd.concat([diamonds, pd.get_dummies(diamonds['clarity'], prefix='clarity', drop_first=True)], axis=1)\n",
    "\n",
    "## Dimensionality reduction\n",
    "from sklearn.decomposition import PCA\n",
    "pca = PCA(n_components=1, random_state=123)\n",
    "diamonds['dim_index'] = pca.fit_transform(diamonds[['x','y','z']])\n",
    "diamonds.drop(['x','y','z'], axis=1, inplace=True)"
   ]
  },
  {
   "cell_type": "code",
   "execution_count": 4,
   "metadata": {},
   "outputs": [
    {
     "data": {
      "text/plain": [
       "Index(['carat', 'cut', 'color', 'clarity', 'depth', 'table', 'price',\n",
       "       'cut_Good', 'cut_Ideal', 'cut_Premium', 'cut_Very Good', 'color_E',\n",
       "       'color_F', 'color_G', 'color_H', 'color_I', 'color_J', 'clarity_IF',\n",
       "       'clarity_SI1', 'clarity_SI2', 'clarity_VS1', 'clarity_VS2',\n",
       "       'clarity_VVS1', 'clarity_VVS2', 'dim_index'],\n",
       "      dtype='object')"
      ]
     },
     "execution_count": 4,
     "metadata": {},
     "output_type": "execute_result"
    }
   ],
   "source": [
    "diamonds.columns"
   ]
  },
  {
   "cell_type": "markdown",
   "metadata": {},
   "source": [
    "#### Train-test split"
   ]
  },
  {
   "cell_type": "code",
   "execution_count": 5,
   "metadata": {},
   "outputs": [],
   "source": [
    "X = diamonds.drop(['cut','color','clarity','price'], axis=1)\n",
    "y = diamonds['price']\n",
    "\n",
    "from sklearn.model_selection import train_test_split\n",
    "X_train, X_test, y_train, y_test = train_test_split(X, y, test_size=0.1, random_state=7)"
   ]
  },
  {
   "cell_type": "markdown",
   "metadata": {},
   "source": [
    "#### Standarization: centering and scaling "
   ]
  },
  {
   "cell_type": "code",
   "execution_count": 6,
   "metadata": {
    "scrolled": true
   },
   "outputs": [],
   "source": [
    "numerical_features = ['carat', 'depth', 'table', 'dim_index']\n",
    "from sklearn.preprocessing import StandardScaler\n",
    "scaler = StandardScaler()\n",
    "scaler.fit(X_train[numerical_features])\n",
    "X_train.loc[:, numerical_features] = scaler.fit_transform(X_train[numerical_features])\n",
    "X_test.loc[:, numerical_features] = scaler.transform(X_test[numerical_features])"
   ]
  },
  {
   "cell_type": "markdown",
   "metadata": {},
   "source": [
    "## Optimizing a single hyper-parameter"
   ]
  },
  {
   "cell_type": "code",
   "execution_count": 7,
   "metadata": {},
   "outputs": [],
   "source": [
    "X_train, X_val, y_train, y_val = train_test_split(X_train, y_train, test_size=0.1, random_state=13)"
   ]
  },
  {
   "cell_type": "code",
   "execution_count": 8,
   "metadata": {},
   "outputs": [],
   "source": [
    "from sklearn.neighbors import KNeighborsRegressor\n",
    "from sklearn.metrics import mean_absolute_error\n",
    "\n",
    "candidates = np.arange(4,16)\n",
    "mae_metrics = []\n",
    "for k in candidates:\n",
    "    model = KNeighborsRegressor(n_neighbors=k, weights='distance', metric='minkowski', leaf_size=50, n_jobs=4)\n",
    "    model.fit(X_train, y_train)\n",
    "    y_pred = model.predict(X_val)\n",
    "    metric = mean_absolute_error(y_true=y_val, y_pred=y_pred)\n",
    "    mae_metrics.append(metric)"
   ]
  },
  {
   "cell_type": "code",
   "execution_count": 9,
   "metadata": {},
   "outputs": [
    {
     "data": {
      "image/png": "[encoded data removed]",
      "text/plain": [
       "<Figure size 576x360 with 1 Axes>"
      ]
     },
     "metadata": {
      "needs_background": "light"
     },
     "output_type": "display_data"
    }
   ],
   "source": [
    "fig, ax = plt.subplots(figsize=(8,5))\n",
    "ax.plot(candidates, mae_metrics, \"o-\")\n",
    "ax.set_xlabel('Hyper-parameter K', fontsize=14)\n",
    "ax.set_ylabel('MAE', fontsize=14)\n",
    "ax.set_xticks(candidates)\n",
    "ax.grid();"
   ]
  },
  {
   "cell_type": "markdown",
   "metadata": {},
   "source": [
    "#### Recalculating train-set split"
   ]
  },
  {
   "cell_type": "code",
   "execution_count": 10,
   "metadata": {},
   "outputs": [],
   "source": [
    "X_train, X_test, y_train, y_test = train_test_split(X, y, test_size=0.1, random_state=7)\n",
    "scaler = StandardScaler()\n",
    "scaler.fit(X_train[numerical_features])\n",
    "X_train.loc[:, numerical_features] = scaler.fit_transform(X_train[numerical_features])\n",
    "X_test.loc[:, numerical_features] = scaler.transform(X_test[numerical_features])"
   ]
  },
  {
   "cell_type": "markdown",
   "metadata": {},
   "source": [
    "#### Optimizing with cross-validation"
   ]
  },
  {
   "cell_type": "code",
   "execution_count": null,
   "metadata": {},
   "outputs": [],
   "source": [
    "from sklearn.model_selection import cross_val_score\n",
    "candidates = np.arange(4,16)\n",
    "mean_mae = []\n",
    "std_mae = []\n",
    "for k in candidates:\n",
    "    model = KNeighborsRegressor(n_neighbors=k, weights='distance', metric='minkowski', leaf_size=50, n_jobs=4)\n",
    "    cv_results = cross_val_score(model, X_train, y_train, scoring='neg_mean_absolute_error', cv=10)\n",
    "    mean_score, std_score = -1*cv_results.mean(), cv_results.std()\n",
    "    mean_mae.append(mean_score)\n",
    "    std_mae.append(std_score)"
   ]
  },
  {
   "cell_type": "code",
   "execution_count": null,
   "metadata": {
    "scrolled": true
   },
   "outputs": [],
   "source": [
    "fig, ax = plt.subplots(figsize=(8,5))\n",
    "ax.plot(candidates, mean_mae, \"o-\")\n",
    "ax.set_xlabel('Hyper-parameter K', fontsize=14)\n",
    "ax.set_ylabel('Mean MAE', fontsize=14)\n",
    "ax.set_xticks(candidates)\n",
    "ax.grid();"
   ]
  },
  {
   "cell_type": "code",
   "execution_count": null,
   "metadata": {},
   "outputs": [],
   "source": [
    "fig, ax = plt.subplots(figsize=(8,5))\n",
    "ax.plot(candidates, std_mae, \"o-\")\n",
    "ax.set_xlabel('Hyper-parameter K', fontsize=14)\n",
    "ax.set_ylabel('Standard deviation of MAE', fontsize=14)\n",
    "ax.set_xticks(candidates)\n",
    "ax.grid();"
   ]
  },
  {
   "cell_type": "markdown",
   "metadata": {},
   "source": [
    "# Improving Performance"
   ]
  },
  {
   "cell_type": "markdown",
   "metadata": {},
   "source": [
    "## Improving our diamond price predictions"
   ]
  },
  {
   "cell_type": "markdown",
   "metadata": {},
   "source": [
    "### Fitting a neural network"
   ]
  },
  {
   "cell_type": "code",
   "execution_count": null,
   "metadata": {},
   "outputs": [],
   "source": [
    "from keras.models import Sequential\n",
    "from keras.layers import Dense\n",
    "\n",
    "n_input = X_train.shape[1]\n",
    "n_hidden1 = 32\n",
    "n_hidden2 = 16\n",
    "n_hidden3 = 8\n",
    "\n",
    "nn_reg = Sequential()\n",
    "nn_reg.add(Dense(units=n_hidden1, activation='relu', input_shape=(n_input,)))\n",
    "nn_reg.add(Dense(units=n_hidden2, activation='relu'))\n",
    "nn_reg.add(Dense(units=n_hidden3, activation='relu'))\n",
    "# output layer\n",
    "nn_reg.add(Dense(units=1, activation=None))"
   ]
  },
  {
   "cell_type": "code",
   "execution_count": null,
   "metadata": {
    "scrolled": true
   },
   "outputs": [],
   "source": [
    "batch_size = 32\n",
    "n_epochs = 40\n",
    "nn_reg.compile(loss='mean_absolute_error', optimizer='adam')\n",
    "nn_reg.fit(X_train, y_train, epochs=n_epochs, batch_size=batch_size, validation_split=0.05)"
   ]
  },
  {
   "cell_type": "code",
   "execution_count": null,
   "metadata": {},
   "outputs": [],
   "source": [
    "y_pred = nn_reg.predict(X_test).flatten()\n",
    "mae_neural_net = mean_absolute_error(y_test, y_pred)\n",
    "print(\"MAE Neural Network: {:0.2f}\".format(mae_neural_net))"
   ]
  },
  {
   "cell_type": "markdown",
   "metadata": {},
   "source": [
    "### Transforming the target"
   ]
  },
  {
   "cell_type": "code",
   "execution_count": null,
   "metadata": {},
   "outputs": [],
   "source": [
    "diamonds['price'].hist(bins=25, ec='k', figsize=(8,5))\n",
    "plt.title(\"Distribution of diamond prices\", fontsize=16)\n",
    "plt.grid(False);"
   ]
  },
  {
   "cell_type": "code",
   "execution_count": null,
   "metadata": {},
   "outputs": [],
   "source": [
    "y_train = np.log(y_train)\n",
    "pd.Series(y_train).hist(bins=25, ec='k', figsize=(8,5))\n",
    "plt.title(\"Distribution of log diamond prices\", fontsize=16)\n",
    "plt.grid(False);"
   ]
  },
  {
   "cell_type": "code",
   "execution_count": null,
   "metadata": {},
   "outputs": [],
   "source": [
    "nn_reg = Sequential()\n",
    "nn_reg.add(Dense(units=n_hidden1, activation='relu', input_shape=(n_input,)))\n",
    "nn_reg.add(Dense(units=n_hidden2, activation='relu'))\n",
    "nn_reg.add(Dense(units=n_hidden3, activation='relu'))\n",
    "# output layer\n",
    "nn_reg.add(Dense(units=1, activation=None))"
   ]
  },
  {
   "cell_type": "code",
   "execution_count": null,
   "metadata": {
    "scrolled": true
   },
   "outputs": [],
   "source": [
    "batch_size = 32\n",
    "n_epochs = 40\n",
    "nn_reg.compile(loss='mean_absolute_error', optimizer='adam')\n",
    "nn_reg.fit(X_train, y_train, epochs=n_epochs, batch_size=batch_size, validation_split=0.05)"
   ]
  },
  {
   "cell_type": "code",
   "execution_count": null,
   "metadata": {},
   "outputs": [],
   "source": [
    "y_pred = nn_reg.predict(X_test).flatten()\n",
    "y_pred = np.exp(y_pred)\n",
    "mae_neural_net2 = mean_absolute_error(y_test, y_pred)\n",
    "print(\"MAE Neural Network (modified target): {:0.2f}\".format(mae_neural_net2))"
   ]
  },
  {
   "cell_type": "code",
   "execution_count": null,
   "metadata": {},
   "outputs": [],
   "source": [
    "100*(mae_neural_net - mae_neural_net2)/mae_neural_net2"
   ]
  },
  {
   "cell_type": "markdown",
   "metadata": {},
   "source": [
    "#### Analyzing the results"
   ]
  },
  {
   "cell_type": "code",
   "execution_count": null,
   "metadata": {},
   "outputs": [],
   "source": [
    "fig, ax = plt.subplots(figsize=(8,5))\n",
    "residuals = y_test - y_pred\n",
    "ax.scatter(y_test, residuals, s=3)\n",
    "ax.set_title('Residuals vs. Observed Prices', fontsize=16)\n",
    "ax.set_xlabel('Observed prices', fontsize=14)\n",
    "ax.set_ylabel('Residuals', fontsize=14)\n",
    "ax.grid();"
   ]
  },
  {
   "cell_type": "code",
   "execution_count": null,
   "metadata": {},
   "outputs": [],
   "source": [
    "mask_7500 = y_test <=7500\n",
    "mae_neural_less_7500 = mean_absolute_error(y_test[mask_7500], y_pred[mask_7500])\n",
    "print(\"MAE considering price <= 7500: {:0.2f}\".format(mae_neural_less_7500))"
   ]
  },
  {
   "cell_type": "code",
   "execution_count": null,
   "metadata": {},
   "outputs": [],
   "source": [
    "fig, ax = plt.subplots(figsize=(8,5))\n",
    "percent_residuals = (y_test - y_pred)/y_test\n",
    "ax.scatter(y_test, percent_residuals, s=3)\n",
    "ax.set_title('Pecent residuals vs. Observed Prices', fontsize=16)\n",
    "ax.set_xlabel('Observed prices', fontsize=14)\n",
    "ax.set_ylabel('Pecent residuals', fontsize=14)\n",
    "ax.axhline(y=0.15, color='r'); ax.axhline(y=-0.15, color='r'); \n",
    "ax.grid();"
   ]
  },
  {
   "cell_type": "code",
   "execution_count": null,
   "metadata": {},
   "outputs": [],
   "source": []
  },
  {
   "cell_type": "code",
   "execution_count": null,
   "metadata": {},
   "outputs": [],
   "source": []
  },
  {
   "cell_type": "code",
   "execution_count": null,
   "metadata": {},
   "outputs": [],
   "source": []
  },
  {
   "cell_type": "code",
   "execution_count": null,
   "metadata": {},
   "outputs": [],
   "source": []
  }
 ],
 "metadata": {
  "kernelspec": {
   "display_name": "Python 3",
   "language": "python",
   "name": "python3"
  },
  "language_info": {
   "codemirror_mode": {
    "name": "ipython",
    "version": 3
   },
   "file_extension": ".py",
   "mimetype": "text/x-python",
   "name": "python",
   "nbconvert_exporter": "python",
   "pygments_lexer": "ipython3",
   "version": "3.6.10"
  }
 },
 "nbformat": 4,
 "nbformat_minor": 2
}
