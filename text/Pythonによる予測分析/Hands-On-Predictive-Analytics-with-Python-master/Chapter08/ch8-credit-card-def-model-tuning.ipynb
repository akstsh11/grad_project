{
 "cells": [
  {
   "cell_type": "markdown",
   "metadata": {},
   "source": [
    "# Credit Card Default: Model Tuning and Improving Performance"
   ]
  },
  {
   "cell_type": "markdown",
   "metadata": {},
   "source": [
    "#### Importing libraries"
   ]
  },
  {
   "cell_type": "code",
   "execution_count": 1,
   "metadata": {},
   "outputs": [],
   "source": [
    "import numpy as np\n",
    "import pandas as pd\n",
    "import matplotlib.pyplot as plt\n",
    "import seaborn as sns\n",
    "import os\n",
    "\n",
    "pd.options.mode.chained_assignment = None\n",
    "%matplotlib inline"
   ]
  },
  {
   "cell_type": "markdown",
   "metadata": {},
   "source": [
    "#### Loading and preparing the dataset"
   ]
  },
  {
   "cell_type": "code",
   "execution_count": 2,
   "metadata": {},
   "outputs": [],
   "source": [
    "# Loading the dataset\n",
    "DATA_DIR = '../data'\n",
    "FILE_NAME = 'credit_card_default.csv'\n",
    "data_path = os.path.join(DATA_DIR, FILE_NAME)\n",
    "ccd = pd.read_csv(data_path, index_col=\"ID\")\n",
    "ccd.rename(columns=lambda x: x.lower(), inplace=True)\n",
    "ccd.rename(columns={'default payment next month':'default'}, inplace=True)\n",
    "\n",
    "# getting the groups of features\n",
    "bill_amt_features = ['bill_amt'+ str(i) for i in range(1,7)]\n",
    "pay_amt_features = ['pay_amt'+ str(i) for i in range(1,7)]\n",
    "numerical_features = ['limit_bal','age'] + bill_amt_features + pay_amt_features\n",
    "\n",
    "# Creating creating binary features\n",
    "ccd['male'] = (ccd['sex'] == 1).astype('int')\n",
    "ccd['grad_school'] = (ccd['education'] == 1).astype('int')\n",
    "ccd['university'] = (ccd['education'] == 2).astype('int')\n",
    "ccd['married'] = (ccd['marriage'] == 1).astype('int')\n",
    "\n",
    "# simplifying pay features \n",
    "pay_features= ['pay_' + str(i) for i in range(1,7)]\n",
    "for x in pay_features:\n",
    "    ccd.loc[ccd[x] <= 0, x] = 0\n",
    "\n",
    "# simplifying delayed features\n",
    "delayed_features = ['delayed_' + str(i) for i in range(1,7)]\n",
    "for pay, delayed in zip(pay_features, delayed_features):\n",
    "    ccd[delayed] = (ccd[pay] > 0).astype(int)\n",
    "    \n",
    "# creating a new feature: months delayed\n",
    "ccd['months_delayed'] = ccd[delayed_features].sum(axis=1)"
   ]
  },
  {
   "cell_type": "markdown",
   "metadata": {},
   "source": [
    "#### Splitting  and standarizing the dataset"
   ]
  },
  {
   "cell_type": "code",
   "execution_count": 3,
   "metadata": {},
   "outputs": [],
   "source": [
    "numerical_features = numerical_features + ['months_delayed']\n",
    "binary_features = ['male','married','grad_school','university']\n",
    "X = ccd[numerical_features + binary_features]\n",
    "y = ccd['default'].astype(int)\n",
    "\n",
    "## Split\n",
    "from sklearn.model_selection import train_test_split\n",
    "X_train, X_test, y_train, y_test = train_test_split(X, y, test_size=5/30, random_state=25)\n",
    "\n",
    "## Standarize\n",
    "from sklearn.preprocessing import StandardScaler\n",
    "scaler = StandardScaler()\n",
    "scaler.fit(X[numerical_features])\n",
    "X_train.loc[:, numerical_features] = scaler.transform(X_train[numerical_features])\n",
    "X_test.loc[:, numerical_features] = scaler.transform(X_test[numerical_features])"
   ]
  },
  {
   "cell_type": "markdown",
   "metadata": {},
   "source": [
    "## Optimizing more than one parameter"
   ]
  },
  {
   "cell_type": "markdown",
   "metadata": {},
   "source": [
    "#### Reference model"
   ]
  },
  {
   "cell_type": "code",
   "execution_count": 4,
   "metadata": {},
   "outputs": [],
   "source": [
    "from sklearn.model_selection import cross_val_score\n",
    "from sklearn.ensemble import RandomForestClassifier\n",
    "ref_rf = RandomForestClassifier(n_estimators=25,\n",
    "                                max_features=4,\n",
    "                                max_depth=4,\n",
    "                                random_state=61)\n",
    "\n",
    "ref_rf_scores = cross_val_score(ref_rf, X_train, y_train, scoring='roc_auc', cv=10)"
   ]
  },
  {
   "cell_type": "code",
   "execution_count": 5,
   "metadata": {
    "scrolled": true
   },
   "outputs": [
    {
     "name": "stdout",
     "output_type": "stream",
     "text": [
      "Mean AUC for reference model: 0.7589\n"
     ]
    }
   ],
   "source": [
    "print(\"Mean AUC for reference model: {:0.4f}\".format(ref_rf_scores.mean()))"
   ]
  },
  {
   "cell_type": "markdown",
   "metadata": {},
   "source": [
    "#### Grid Search CV"
   ]
  },
  {
   "cell_type": "code",
   "execution_count": 6,
   "metadata": {},
   "outputs": [],
   "source": [
    "from sklearn.model_selection import GridSearchCV\n",
    "param_grid = {\"n_estimators\":[25,100,200,400],\n",
    "              \"max_features\":[4,10,19],\n",
    "              \"max_depth\":[4,8,16,20]}"
   ]
  },
  {
   "cell_type": "code",
   "execution_count": 7,
   "metadata": {},
   "outputs": [
    {
     "name": "stdout",
     "output_type": "stream",
     "text": [
      "Fitting 5 folds for each of 48 candidates, totalling 240 fits\n"
     ]
    },
    {
     "name": "stderr",
     "output_type": "stream",
     "text": [
      "[Parallel(n_jobs=4)]: Using backend LokyBackend with 4 concurrent workers.\n",
      "[Parallel(n_jobs=4)]: Done  42 tasks      | elapsed:  1.7min\n",
      "[Parallel(n_jobs=4)]: Done 192 tasks      | elapsed: 23.2min\n",
      "[Parallel(n_jobs=4)]: Done 240 out of 240 | elapsed: 31.2min finished\n"
     ]
    },
    {
     "data": {
      "text/plain": [
       "GridSearchCV(cv=5, error_score=nan,\n",
       "             estimator=RandomForestClassifier(bootstrap=True, ccp_alpha=0.0,\n",
       "                                              class_weight=None,\n",
       "                                              criterion='gini', max_depth=None,\n",
       "                                              max_features='auto',\n",
       "                                              max_leaf_nodes=None,\n",
       "                                              max_samples=None,\n",
       "                                              min_impurity_decrease=0.0,\n",
       "                                              min_impurity_split=None,\n",
       "                                              min_samples_leaf=1,\n",
       "                                              min_samples_split=2,\n",
       "                                              min_weight_fraction_leaf=0.0,\n",
       "                                              n_estimators=100, n_jobs=None,\n",
       "                                              oob_score=False, random_state=17,\n",
       "                                              verbose=0, warm_start=False),\n",
       "             iid='deprecated', n_jobs=4,\n",
       "             param_grid={'max_depth': [4, 8, 16, 20],\n",
       "                         'max_features': [4, 10, 19],\n",
       "                         'n_estimators': [25, 100, 200, 400]},\n",
       "             pre_dispatch='2*n_jobs', refit=True, return_train_score=False,\n",
       "             scoring='roc_auc', verbose=1)"
      ]
     },
     "execution_count": 7,
     "metadata": {},
     "output_type": "execute_result"
    }
   ],
   "source": [
    "rf = RandomForestClassifier(random_state=17)\n",
    "grid_search = GridSearchCV(estimator=rf,\n",
    "                           param_grid=param_grid,\n",
    "                           scoring='roc_auc',\n",
    "                           cv=5,\n",
    "                           verbose=1,\n",
    "                           n_jobs=4)\n",
    "grid_search.fit(X_train, y_train)"
   ]
  },
  {
   "cell_type": "code",
   "execution_count": 8,
   "metadata": {},
   "outputs": [
    {
     "data": {
      "text/plain": [
       "{'max_depth': 8, 'max_features': 10, 'n_estimators': 400}     0.771326\n",
       "{'max_depth': 8, 'max_features': 10, 'n_estimators': 200}     0.771124\n",
       "{'max_depth': 8, 'max_features': 10, 'n_estimators': 100}     0.770631\n",
       "{'max_depth': 8, 'max_features': 19, 'n_estimators': 200}     0.770247\n",
       "{'max_depth': 8, 'max_features': 19, 'n_estimators': 400}     0.770064\n",
       "{'max_depth': 8, 'max_features': 19, 'n_estimators': 100}     0.769853\n",
       "{'max_depth': 8, 'max_features': 10, 'n_estimators': 25}      0.769006\n",
       "{'max_depth': 8, 'max_features': 4, 'n_estimators': 400}      0.768849\n",
       "{'max_depth': 8, 'max_features': 4, 'n_estimators': 200}      0.768731\n",
       "{'max_depth': 8, 'max_features': 4, 'n_estimators': 100}      0.768357\n",
       "{'max_depth': 8, 'max_features': 19, 'n_estimators': 25}      0.767251\n",
       "{'max_depth': 8, 'max_features': 4, 'n_estimators': 25}       0.765398\n",
       "{'max_depth': 16, 'max_features': 4, 'n_estimators': 400}     0.765102\n",
       "{'max_depth': 4, 'max_features': 19, 'n_estimators': 200}     0.764651\n",
       "{'max_depth': 4, 'max_features': 19, 'n_estimators': 400}     0.764609\n",
       "{'max_depth': 16, 'max_features': 4, 'n_estimators': 200}     0.764566\n",
       "{'max_depth': 4, 'max_features': 10, 'n_estimators': 200}     0.764493\n",
       "{'max_depth': 4, 'max_features': 10, 'n_estimators': 400}     0.764348\n",
       "{'max_depth': 4, 'max_features': 19, 'n_estimators': 100}     0.764184\n",
       "{'max_depth': 4, 'max_features': 10, 'n_estimators': 100}     0.763869\n",
       "{'max_depth': 16, 'max_features': 10, 'n_estimators': 400}    0.762890\n",
       "{'max_depth': 16, 'max_features': 10, 'n_estimators': 200}    0.762597\n",
       "{'max_depth': 4, 'max_features': 19, 'n_estimators': 25}      0.762230\n",
       "{'max_depth': 4, 'max_features': 10, 'n_estimators': 25}      0.762041\n",
       "{'max_depth': 16, 'max_features': 4, 'n_estimators': 100}     0.761957\n",
       "{'max_depth': 4, 'max_features': 4, 'n_estimators': 200}      0.761491\n",
       "{'max_depth': 4, 'max_features': 4, 'n_estimators': 400}      0.761226\n",
       "{'max_depth': 4, 'max_features': 4, 'n_estimators': 100}      0.761205\n",
       "{'max_depth': 16, 'max_features': 19, 'n_estimators': 400}    0.761067\n",
       "{'max_depth': 16, 'max_features': 19, 'n_estimators': 200}    0.761063\n",
       "{'max_depth': 20, 'max_features': 4, 'n_estimators': 400}     0.760642\n",
       "{'max_depth': 16, 'max_features': 10, 'n_estimators': 100}    0.760370\n",
       "{'max_depth': 20, 'max_features': 4, 'n_estimators': 200}     0.760276\n",
       "{'max_depth': 16, 'max_features': 19, 'n_estimators': 100}    0.759550\n",
       "{'max_depth': 20, 'max_features': 10, 'n_estimators': 400}    0.759322\n",
       "{'max_depth': 4, 'max_features': 4, 'n_estimators': 25}       0.758232\n",
       "{'max_depth': 20, 'max_features': 4, 'n_estimators': 100}     0.758096\n",
       "{'max_depth': 20, 'max_features': 10, 'n_estimators': 200}    0.758079\n",
       "{'max_depth': 20, 'max_features': 19, 'n_estimators': 400}    0.756264\n",
       "{'max_depth': 20, 'max_features': 10, 'n_estimators': 100}    0.756223\n",
       "{'max_depth': 20, 'max_features': 19, 'n_estimators': 200}    0.756155\n",
       "{'max_depth': 16, 'max_features': 4, 'n_estimators': 25}      0.754467\n",
       "{'max_depth': 16, 'max_features': 10, 'n_estimators': 25}     0.754197\n",
       "{'max_depth': 20, 'max_features': 19, 'n_estimators': 100}    0.754098\n",
       "{'max_depth': 16, 'max_features': 19, 'n_estimators': 25}     0.750203\n",
       "{'max_depth': 20, 'max_features': 4, 'n_estimators': 25}      0.744949\n",
       "{'max_depth': 20, 'max_features': 10, 'n_estimators': 25}     0.743897\n",
       "{'max_depth': 20, 'max_features': 19, 'n_estimators': 25}     0.741905\n",
       "dtype: float64"
      ]
     },
     "execution_count": 8,
     "metadata": {},
     "output_type": "execute_result"
    }
   ],
   "source": [
    "gs_results = pd.Series(grid_search.cv_results_['mean_test_score'], index=grid_search.cv_results_['params'])\n",
    "gs_results.sort_values(ascending=False)"
   ]
  },
  {
   "cell_type": "code",
   "execution_count": 9,
   "metadata": {},
   "outputs": [],
   "source": [
    "from sklearn.metrics import precision_recall_curve\n",
    "## Fitting the initial (not tuned) model:\n",
    "ref_rf.fit(X_train, y_train)\n",
    "\n",
    "## Getting the probabilites\n",
    "y_prob_tunned = grid_search.predict_proba(X_test)[:,1]\n",
    "y_prob_not_tunned = ref_rf.predict_proba(X_test)[:,1]\n",
    "\n",
    "## Values for plotting the curves\n",
    "prec_tuned, recall_tuned, _ = precision_recall_curve(y_test, y_prob_tunned)\n",
    "prec_not_tuned, recall_not_tuned, _ = precision_recall_curve(y_test, y_prob_not_tunned)"
   ]
  },
  {
   "cell_type": "code",
   "execution_count": 10,
   "metadata": {},
   "outputs": [
    {
     "data": {
      "image/png": "[encoded data removed]",
      "text/plain": [
       "<Figure size 576x360 with 1 Axes>"
      ]
     },
     "metadata": {
      "needs_background": "light"
     },
     "output_type": "display_data"
    }
   ],
   "source": [
    "fig, ax = plt.subplots(figsize=(8,5))\n",
    "ax.plot(prec_tuned, recall_tuned, label='Tuned Model')\n",
    "ax.plot(prec_not_tuned, recall_not_tuned, label='Not Tuned Model')\n",
    "ax.set_title('Precision-recall curves', fontsize=16)\n",
    "ax.set_xlabel('Precision', fontsize=14)\n",
    "ax.set_ylabel('Recall', fontsize=14)\n",
    "ax.set_xlim(0.3,0.7); ax.set_ylim(0.1,0.9)\n",
    "ax.legend(); ax.grid();"
   ]
  },
  {
   "cell_type": "code",
   "execution_count": null,
   "metadata": {},
   "outputs": [],
   "source": []
  },
  {
   "cell_type": "code",
   "execution_count": null,
   "metadata": {},
   "outputs": [],
   "source": []
  },
  {
   "cell_type": "code",
   "execution_count": null,
   "metadata": {},
   "outputs": [],
   "source": []
  },
  {
   "cell_type": "code",
   "execution_count": null,
   "metadata": {},
   "outputs": [],
   "source": []
  }
 ],
 "metadata": {
  "kernelspec": {
   "display_name": "Python 3",
   "language": "python",
   "name": "python3"
  },
  "language_info": {
   "codemirror_mode": {
    "name": "ipython",
    "version": 3
   },
   "file_extension": ".py",
   "mimetype": "text/x-python",
   "name": "python",
   "nbconvert_exporter": "python",
   "pygments_lexer": "ipython3",
   "version": "3.6.10"
  }
 },
 "nbformat": 4,
 "nbformat_minor": 2
}
