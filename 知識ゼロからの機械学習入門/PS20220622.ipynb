{
 "cells": [
  {
   "cell_type": "code",
   "execution_count": 2,
   "id": "4d084e64",
   "metadata": {},
   "outputs": [],
   "source": [
    "#ライブラリの読み込み\n",
    "import pandas as pd\n",
    "import numpy as np\n",
    "import matplotlib.pyplot as plt\n",
    "import seaborn as sns \n",
    "from sklearn import datasets\n",
    "\n",
    "iris_datasets=datasets.load_iris()\n",
    "iris=pd.DataFrame(iris_datasets.data,columns=iris_datasets.feature_names)\n",
    "iris['target']=iris_datasets.target\n",
    "\n",
    "target=iris['target']\n",
    "data=iris[iris_datasets.feature_names]"
   ]
  },
  {
   "cell_type": "code",
   "execution_count": 5,
   "id": "324d6d95",
   "metadata": {},
   "outputs": [],
   "source": [
    "from sklearn import model_selection\n",
    "data_train, data_test, target_train,target_test=\\\n",
    "model_selection.train_test_split(data,target,train_size=0.8)\n"
   ]
  },
  {
   "cell_type": "code",
   "execution_count": 10,
   "id": "102ba60a",
   "metadata": {},
   "outputs": [
    {
     "ename": "SyntaxError",
     "evalue": "invalid syntax (1805033949.py, line 1)",
     "output_type": "error",
     "traceback": [
      "\u001b[1;36m  Input \u001b[1;32mIn [10]\u001b[1;36m\u001b[0m\n\u001b[1;33m    pip install --upgrade pip\u001b[0m\n\u001b[1;37m        ^\u001b[0m\n\u001b[1;31mSyntaxError\u001b[0m\u001b[1;31m:\u001b[0m invalid syntax\n"
     ]
    }
   ],
   "source": [
    "pip install --upgrade pip\n",
    "pip install tensorflow"
   ]
  },
  {
   "cell_type": "code",
   "execution_count": 11,
   "id": "fbfdb21b",
   "metadata": {},
   "outputs": [
    {
     "ename": "ModuleNotFoundError",
     "evalue": "No module named 'tensorflow'",
     "output_type": "error",
     "traceback": [
      "\u001b[1;31m---------------------------------------------------------------------------\u001b[0m",
      "\u001b[1;31mModuleNotFoundError\u001b[0m                       Traceback (most recent call last)",
      "Input \u001b[1;32mIn [11]\u001b[0m, in \u001b[0;36m<cell line: 1>\u001b[1;34m()\u001b[0m\n\u001b[1;32m----> 1\u001b[0m \u001b[38;5;28;01mfrom\u001b[39;00m \u001b[38;5;21;01mtensorflow\u001b[39;00m\u001b[38;5;21;01m.\u001b[39;00m\u001b[38;5;21;01mkeras\u001b[39;00m\u001b[38;5;21;01m.\u001b[39;00m\u001b[38;5;21;01mmodels\u001b[39;00m \u001b[38;5;28;01mimport\u001b[39;00m Sequential\n\u001b[0;32m      2\u001b[0m \u001b[38;5;28;01mfrom\u001b[39;00m \u001b[38;5;21;01mtensorflow\u001b[39;00m\u001b[38;5;21;01m.\u001b[39;00m\u001b[38;5;21;01mkeras\u001b[39;00m\u001b[38;5;21;01m.\u001b[39;00m\u001b[38;5;21;01mlayers\u001b[39;00m \u001b[38;5;28;01mimport\u001b[39;00m Dense,Activation\n\u001b[0;32m      4\u001b[0m model\u001b[38;5;241m=\u001b[39mSequential()\n",
      "\u001b[1;31mModuleNotFoundError\u001b[0m: No module named 'tensorflow'"
     ]
    }
   ],
   "source": [
    "from tensorflow.keras.models import Sequential\n",
    "from tensorflow.keras.layers import Dense,Activation\n",
    "\n",
    "model=Sequential()\n",
    "\n",
    "model.add(Dense(8,activation='relu',input_shape=(4,)))\n",
    "\n",
    "model.add(Dense(12,activation='relu'))\n",
    "model.add(Dense(16,activation='relu'))\n",
    "\n",
    "model.add(Dense(3,activation='softmax'))\n",
    "\n",
    "model.compile(optimizera='SGD',loss='sparse_categorical_crossentropy',metrics=['accuracy'])"
   ]
  },
  {
   "cell_type": "code",
   "execution_count": 12,
   "id": "5172afb5",
   "metadata": {},
   "outputs": [
    {
     "ename": "NameError",
     "evalue": "name 'model' is not defined",
     "output_type": "error",
     "traceback": [
      "\u001b[1;31m---------------------------------------------------------------------------\u001b[0m",
      "\u001b[1;31mNameError\u001b[0m                                 Traceback (most recent call last)",
      "Input \u001b[1;32mIn [12]\u001b[0m, in \u001b[0;36m<cell line: 1>\u001b[1;34m()\u001b[0m\n\u001b[1;32m----> 1\u001b[0m \u001b[43mmodel\u001b[49m\u001b[38;5;241m.\u001b[39mfitz(data_train,target_train,nb_epoch\u001b[38;5;241m=\u001b[39m\u001b[38;5;241m20\u001b[39m,batch_size\u001b[38;5;241m=\u001b[39m\u001b[38;5;241m5\u001b[39m)\n\u001b[0;32m      2\u001b[0m target_predict\u001b[38;5;241m=\u001b[39mmodel\u001b[38;5;241m.\u001b[39mpredict_classes(data_test)\n\u001b[0;32m      3\u001b[0m \u001b[38;5;28mprint\u001b[39m(target_predict)\n",
      "\u001b[1;31mNameError\u001b[0m: name 'model' is not defined"
     ]
    }
   ],
   "source": [
    "model.fitz(data_train,target_train,nb_epoch=20,batch_size=5)\n",
    "target_predict=model.predict_classes(data_test)\n",
    "print(target_predict)\n",
    "print(np.array(target_test))\n",
    "_, acc=model.evaluate(data_test,target_test)\n",
    "acc"
   ]
  },
  {
   "cell_type": "code",
   "execution_count": null,
   "id": "a3336769",
   "metadata": {},
   "outputs": [],
   "source": []
  }
 ],
 "metadata": {
  "kernelspec": {
   "display_name": "Python 3 (ipykernel)",
   "language": "python",
   "name": "python3"
  },
  "language_info": {
   "codemirror_mode": {
    "name": "ipython",
    "version": 3
   },
   "file_extension": ".py",
   "mimetype": "text/x-python",
   "name": "python",
   "nbconvert_exporter": "python",
   "pygments_lexer": "ipython3",
   "version": "3.8.13"
  }
 },
 "nbformat": 4,
 "nbformat_minor": 5
}
