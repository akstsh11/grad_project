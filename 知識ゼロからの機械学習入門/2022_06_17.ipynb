{
 "cells": [
  {
   "cell_type": "code",
   "execution_count": 1,
   "id": "458e03c0",
   "metadata": {},
   "outputs": [
    {
     "data": {
      "text/html": [
       "<div>\n",
       "<style scoped>\n",
       "    .dataframe tbody tr th:only-of-type {\n",
       "        vertical-align: middle;\n",
       "    }\n",
       "\n",
       "    .dataframe tbody tr th {\n",
       "        vertical-align: top;\n",
       "    }\n",
       "\n",
       "    .dataframe thead th {\n",
       "        text-align: right;\n",
       "    }\n",
       "</style>\n",
       "<table border=\"1\" class=\"dataframe\">\n",
       "  <thead>\n",
       "    <tr style=\"text-align: right;\">\n",
       "      <th></th>\n",
       "      <th>sepal length (cm)</th>\n",
       "      <th>sepal width (cm)</th>\n",
       "      <th>petal length (cm)</th>\n",
       "      <th>petal width (cm)</th>\n",
       "      <th>target</th>\n",
       "    </tr>\n",
       "  </thead>\n",
       "  <tbody>\n",
       "    <tr>\n",
       "      <th>0</th>\n",
       "      <td>5.1</td>\n",
       "      <td>3.5</td>\n",
       "      <td>1.4</td>\n",
       "      <td>0.2</td>\n",
       "      <td>0</td>\n",
       "    </tr>\n",
       "    <tr>\n",
       "      <th>1</th>\n",
       "      <td>4.9</td>\n",
       "      <td>3.0</td>\n",
       "      <td>1.4</td>\n",
       "      <td>0.2</td>\n",
       "      <td>0</td>\n",
       "    </tr>\n",
       "    <tr>\n",
       "      <th>2</th>\n",
       "      <td>4.7</td>\n",
       "      <td>3.2</td>\n",
       "      <td>1.3</td>\n",
       "      <td>0.2</td>\n",
       "      <td>0</td>\n",
       "    </tr>\n",
       "    <tr>\n",
       "      <th>3</th>\n",
       "      <td>4.6</td>\n",
       "      <td>3.1</td>\n",
       "      <td>1.5</td>\n",
       "      <td>0.2</td>\n",
       "      <td>0</td>\n",
       "    </tr>\n",
       "    <tr>\n",
       "      <th>4</th>\n",
       "      <td>5.0</td>\n",
       "      <td>3.6</td>\n",
       "      <td>1.4</td>\n",
       "      <td>0.2</td>\n",
       "      <td>0</td>\n",
       "    </tr>\n",
       "  </tbody>\n",
       "</table>\n",
       "</div>"
      ],
      "text/plain": [
       "   sepal length (cm)  sepal width (cm)  petal length (cm)  petal width (cm)  \\\n",
       "0                5.1               3.5                1.4               0.2   \n",
       "1                4.9               3.0                1.4               0.2   \n",
       "2                4.7               3.2                1.3               0.2   \n",
       "3                4.6               3.1                1.5               0.2   \n",
       "4                5.0               3.6                1.4               0.2   \n",
       "\n",
       "   target  \n",
       "0       0  \n",
       "1       0  \n",
       "2       0  \n",
       "3       0  \n",
       "4       0  "
      ]
     },
     "execution_count": 1,
     "metadata": {},
     "output_type": "execute_result"
    }
   ],
   "source": [
    "# ライブラリの読み込み\n",
    "import pandas as pd\n",
    "import numpy as np\n",
    "import matplotlib.pyplot as plt\n",
    "import seaborn as sns\n",
    "from sklearn import datasets\n",
    "\n",
    "# データの読み込み\n",
    "iris_datasets = datasets.load_iris()\n",
    "iris = pd.DataFrame(iris_datasets.data,columns=iris_datasets.feature_names)\n",
    "iris['target']=iris_datasets.target\n",
    "iris.head()"
   ]
  },
  {
   "cell_type": "code",
   "execution_count": 2,
   "id": "34d86497",
   "metadata": {},
   "outputs": [],
   "source": [
    "# irisデータを目的変数(taeget)と説明変数(data)に分ける\n",
    "# shift + Enter で，ln[]を実行できる\n",
    "target=iris['target']\n",
    "data=iris[iris_datasets.feature_names]"
   ]
  },
  {
   "cell_type": "code",
   "execution_count": 3,
   "id": "95d60de2",
   "metadata": {},
   "outputs": [],
   "source": [
    "# train_test_splitで，学習データと検証データに分割\n",
    "# OS Windowsでのバックスラッシュの入力は，半角設定にした，キーボードのろをタイプすればよい\n",
    "from sklearn import model_selection\n",
    "data_train, data_test, target_train, target_test=\\\n",
    "    model_selection.train_test_split(data,target,train_size=0.8)"
   ]
  },
  {
   "cell_type": "code",
   "execution_count": 4,
   "id": "cb2c6668",
   "metadata": {},
   "outputs": [
    {
     "name": "stdout",
     "output_type": "stream",
     "text": [
      "(120,) (30,)\n",
      "(120, 4) (30, 4)\n"
     ]
    }
   ],
   "source": [
    "# shift + Enter で，ln[]を実行できる\n",
    "print(target_train.shape,target_test.shape)\n",
    "print(data_train.shape, data_test.shape)"
   ]
  },
  {
   "cell_type": "code",
   "execution_count": 5,
   "id": "19b8c753",
   "metadata": {},
   "outputs": [
    {
     "data": {
      "text/plain": [
       "SVC()"
      ]
     },
     "execution_count": 5,
     "metadata": {},
     "output_type": "execute_result"
    }
   ],
   "source": [
    "# ライブラリの読み込み\n",
    "from sklearn.svm import SVC\n",
    "# モデルの初期化\n",
    "model = SVC(gamma='scale')\n",
    "# 学習の実施\n",
    "model.fit(data_train, target_train)\n",
    "\n",
    "# 実行結果：SVC()のみの表示-->問題なし"
   ]
  },
  {
   "cell_type": "code",
   "execution_count": 6,
   "id": "5487605c",
   "metadata": {},
   "outputs": [],
   "source": [
    "target_predict = model.predict(data_test)"
   ]
  },
  {
   "cell_type": "code",
   "execution_count": 7,
   "id": "5dc01789",
   "metadata": {},
   "outputs": [
    {
     "name": "stdout",
     "output_type": "stream",
     "text": [
      "[0 1 2 0 0 1 1 1 1 0 0 0 1 2 1 2 1 1 0 1 1 0 2 2 0 0 1 2 1 0]\n",
      "[0 1 2 0 0 1 1 1 1 0 0 0 1 2 1 2 1 1 0 1 1 0 2 2 0 0 1 2 1 0]\n"
     ]
    }
   ],
   "source": [
    "# 実行結果：テキスト p.159 と同じではなくてもよい．\n",
    "# 生成されるデータが使用するPCごとに異なるため\n",
    "print(target_predict)\n",
    "print(np.array(target_test))"
   ]
  },
  {
   "cell_type": "code",
   "execution_count": 8,
   "id": "7fa75220",
   "metadata": {},
   "outputs": [
    {
     "data": {
      "text/plain": [
       "1.0"
      ]
     },
     "execution_count": 8,
     "metadata": {},
     "output_type": "execute_result"
    }
   ],
   "source": [
    "# 正答率\n",
    "# 実行結果：テキスト p.159 と同じではなくてもよい．\n",
    "# 生成されるデータが使用するPCごとに異なるため\n",
    "model.score(data_test, target_test)"
   ]
  },
  {
   "cell_type": "code",
   "execution_count": 10,
   "id": "e193e9d0",
   "metadata": {},
   "outputs": [
    {
     "name": "stdout",
     "output_type": "stream",
     "text": [
      "適合率(precision): 1.0\n",
      "再現率(recall): 1.0\n",
      "F値(F-meacure): 1.0\n"
     ]
    }
   ],
   "source": [
    "# ライブラリの読み込み\n",
    "from sklearn.metrics import precision_score\n",
    "from sklearn.metrics import f1_score\n",
    "from sklearn.metrics import recall_score\n",
    "\n",
    "# 各値の取得\n",
    "precision = precision_score(target_test, target_predict, average='micro')\n",
    "recall = recall_score(target_test, target_predict, average='micro')\n",
    "f1=f1_score(target_test, target_predict, average='micro')\n",
    "\n",
    "# 各値の表示\n",
    "print('適合率(precision):', precision)\n",
    "print('再現率(recall):', recall)\n",
    "print('F値(F-meacure):', f1)"
   ]
  },
  {
   "cell_type": "code",
   "execution_count": 11,
   "id": "429ae801",
   "metadata": {},
   "outputs": [
    {
     "name": "stdout",
     "output_type": "stream",
     "text": [
      "[0 1 2 0 0 1 1 1 1 0 0 0 1 2 1 2 1 1 0 1 1 0 2 2 0 0 1 2 1 0]\n",
      "[0 1 2 0 0 1 1 1 1 0 0 0 1 2 1 2 1 1 0 1 1 0 2 2 0 0 1 2 1 0]\n"
     ]
    },
    {
     "data": {
      "text/plain": [
       "1.0"
      ]
     },
     "execution_count": 11,
     "metadata": {},
     "output_type": "execute_result"
    }
   ],
   "source": [
    "# ライブラリの読み込み\n",
    "from sklearn.linear_model import LogisticRegression\n",
    "# モデルの初期化\n",
    "model = LogisticRegression(solver='lbfgs', multi_class='auto')\n",
    "# 学習の実施\n",
    "model.fit(data_train, target_train)\n",
    "\n",
    "# 予測\n",
    "target_predict = model.predict(data_test)\n",
    "print(target_predict)\n",
    "print(np.array(target_test))\n",
    "\n",
    "# 正解率の表示\n",
    "model.score(data_test, target_test)"
   ]
  },
  {
   "cell_type": "code",
   "execution_count": 12,
   "id": "62c72732",
   "metadata": {},
   "outputs": [],
   "source": [
    "# 決定木\n",
    "# ライブラリの読み込み\n",
    "from sklearn.tree import DecisionTreeClassifier\n",
    "# モデルの初期化\n",
    "model = DecisionTreeClassifier()"
   ]
  },
  {
   "cell_type": "code",
   "execution_count": 13,
   "id": "84fe2084",
   "metadata": {},
   "outputs": [],
   "source": [
    "# ランダムフォレスト\n",
    "from sklearn.ensemble import RandomForestClassifier\n",
    "# モデルの初期化\n",
    "model = RandomForestClassifier(n_estimators=100)"
   ]
  },
  {
   "cell_type": "code",
   "execution_count": 14,
   "id": "02a60334",
   "metadata": {},
   "outputs": [],
   "source": [
    "# パーセプトロン\n",
    "# ライブラリの読み込み\n",
    "from sklearn.linear_model import Perceptron\n",
    "# モデルの初期化\n",
    "model = Perceptron()"
   ]
  },
  {
   "cell_type": "code",
   "execution_count": null,
   "id": "db95ee01",
   "metadata": {},
   "outputs": [],
   "source": []
  }
 ],
 "metadata": {
  "kernelspec": {
   "display_name": "Python 3.8.2 64-bit ('3.8.2')",
   "language": "python",
   "name": "python3"
  },
  "language_info": {
   "codemirror_mode": {
    "name": "ipython",
    "version": 3
   },
   "file_extension": ".py",
   "mimetype": "text/x-python",
   "name": "python",
   "nbconvert_exporter": "python",
   "pygments_lexer": "ipython3",
   "version": "3.8.2"
  },
  "vscode": {
   "interpreter": {
    "hash": "e6cf82ae82e828d200fab7f5ba9abf59b6516bb6b46a916fa44930a67d435a4e"
   }
  }
 },
 "nbformat": 4,
 "nbformat_minor": 5
}
