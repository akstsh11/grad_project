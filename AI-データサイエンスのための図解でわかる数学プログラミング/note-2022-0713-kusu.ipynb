{
 "cells": [
  {
   "cell_type": "code",
   "execution_count": 1,
   "id": "993775de",
   "metadata": {},
   "outputs": [
    {
     "data": {
      "text/html": [
       "<div>\n",
       "<style scoped>\n",
       "    .dataframe tbody tr th:only-of-type {\n",
       "        vertical-align: middle;\n",
       "    }\n",
       "\n",
       "    .dataframe tbody tr th {\n",
       "        vertical-align: top;\n",
       "    }\n",
       "\n",
       "    .dataframe thead th {\n",
       "        text-align: right;\n",
       "    }\n",
       "</style>\n",
       "<table border=\"1\" class=\"dataframe\">\n",
       "  <thead>\n",
       "    <tr style=\"text-align: right;\">\n",
       "      <th></th>\n",
       "      <th>temp</th>\n",
       "      <th>sales</th>\n",
       "    </tr>\n",
       "  </thead>\n",
       "  <tbody>\n",
       "    <tr>\n",
       "      <th>0</th>\n",
       "      <td>7.5</td>\n",
       "      <td>5.8</td>\n",
       "    </tr>\n",
       "    <tr>\n",
       "      <th>1</th>\n",
       "      <td>8.0</td>\n",
       "      <td>8.2</td>\n",
       "    </tr>\n",
       "    <tr>\n",
       "      <th>2</th>\n",
       "      <td>11.1</td>\n",
       "      <td>8.9</td>\n",
       "    </tr>\n",
       "    <tr>\n",
       "      <th>3</th>\n",
       "      <td>16.2</td>\n",
       "      <td>10.3</td>\n",
       "    </tr>\n",
       "    <tr>\n",
       "      <th>4</th>\n",
       "      <td>21.3</td>\n",
       "      <td>10.4</td>\n",
       "    </tr>\n",
       "  </tbody>\n",
       "</table>\n",
       "</div>"
      ],
      "text/plain": [
       "   temp  sales\n",
       "0   7.5    5.8\n",
       "1   8.0    8.2\n",
       "2  11.1    8.9\n",
       "3  16.2   10.3\n",
       "4  21.3   10.4"
      ]
     },
     "execution_count": 1,
     "metadata": {},
     "output_type": "execute_result"
    }
   ],
   "source": [
    "# ice_sales.csv の読み込みと読み込んだデータの表示\n",
    "import pandas as pd\n",
    "df = pd.read_csv(\"ice_sales.csv\")\n",
    "df.head()"
   ]
  },
  {
   "cell_type": "code",
   "execution_count": 3,
   "id": "a1ab3ed1",
   "metadata": {},
   "outputs": [],
   "source": [
    "# 線形回帰のモデルを実装\n",
    "# 線形回帰のモデルの作成\n",
    "x = df.temp.to_frame()\n",
    "y = df.sales"
   ]
  },
  {
   "cell_type": "code",
   "execution_count": 4,
   "id": "b0eacbce",
   "metadata": {},
   "outputs": [
    {
     "data": {
      "text/plain": [
       "LinearRegression()"
      ]
     },
     "execution_count": 4,
     "metadata": {},
     "output_type": "execute_result"
    }
   ],
   "source": [
    "from sklearn.linear_model import LinearRegression\n",
    "lr = LinearRegression()\n",
    "lr.fit(x, y)"
   ]
  },
  {
   "cell_type": "code",
   "execution_count": 5,
   "id": "5fc5c4a2",
   "metadata": {},
   "outputs": [
    {
     "name": "stderr",
     "output_type": "stream",
     "text": [
      "C:\\Users\\kusukawa\\lib\\site-packages\\sklearn\\base.py:450: UserWarning: X does not have valid feature names, but LinearRegression was fitted with feature names\n",
      "  warnings.warn(\n"
     ]
    },
    {
     "data": {
      "text/plain": [
       "array([13.62120947])"
      ]
     },
     "execution_count": 5,
     "metadata": {},
     "output_type": "execute_result"
    }
   ],
   "source": [
    "# 線形回帰モデルを使って予測する\n",
    "lr.predict([[30]])"
   ]
  },
  {
   "cell_type": "code",
   "execution_count": 6,
   "id": "93b4ff6b",
   "metadata": {},
   "outputs": [
    {
     "data": {
      "text/plain": [
       "0.7261874233533445"
      ]
     },
     "execution_count": 6,
     "metadata": {},
     "output_type": "execute_result"
    }
   ],
   "source": [
    "# モデルの制度をっ評価する\n",
    "lr.score(x, y)"
   ]
  },
  {
   "cell_type": "code",
   "execution_count": 7,
   "id": "1879d6db",
   "metadata": {},
   "outputs": [
    {
     "name": "stdout",
     "output_type": "stream",
     "text": [
      "実際のデータ [ 5.8  8.2  8.9 10.3 10.4 12.8 13.5 12.8 10.1 10.   9.2  6.4  5.7  6.4\n",
      "  8.9  9.8  8.7 12.6 13.  17.2  9.6  8.4  9.8  7.7]\n",
      "予測データ [ 6.70272434  6.85646845  7.80968196  9.37787192 10.94606189 11.56103834\n",
      " 12.72949361 12.97548419 11.7762801  10.57707601  8.73214664  7.50219373\n",
      "  6.9179661   6.82571963  7.53294256  8.57840253 10.54632719 11.7762801\n",
      " 13.34447006 13.68270711 12.54500067 10.48482954  8.73214664  7.68668667]\n"
     ]
    }
   ],
   "source": [
    "print(\"実際のデータ\", df.sales.values)\n",
    "print(\"予測データ\", lr.predict(x))"
   ]
  },
  {
   "cell_type": "code",
   "execution_count": 8,
   "id": "201b48e8",
   "metadata": {},
   "outputs": [
    {
     "data": {
      "image/png": "[encoded data removed]",
      "text/plain": [
       "<Figure size 432x288 with 1 Axes>"
      ]
     },
     "metadata": {
      "needs_background": "light"
     },
     "output_type": "display_data"
    }
   ],
   "source": [
    "import matplotlib.pyplot as plt\n",
    "plt.scatter(df.temp, df.sales)\n",
    "plt.plot(df.temp, lr.predict(x))\n",
    "plt.show()"
   ]
  },
  {
   "cell_type": "code",
   "execution_count": 9,
   "id": "38d2170c",
   "metadata": {},
   "outputs": [
    {
     "name": "stdout",
     "output_type": "stream",
     "text": [
      "sales = 0.307temp + 4.397\n"
     ]
    }
   ],
   "source": [
    "print('sales = %.3ftemp + %.3f' % (lr.coef_, lr.intercept_))"
   ]
  },
  {
   "cell_type": "code",
   "execution_count": 10,
   "id": "b6685b2c",
   "metadata": {},
   "outputs": [
    {
     "data": {
      "text/plain": [
       "13.607"
      ]
     },
     "execution_count": 10,
     "metadata": {},
     "output_type": "execute_result"
    }
   ],
   "source": [
    "0.307*30 + 4.397"
   ]
  },
  {
   "cell_type": "code",
   "execution_count": 12,
   "id": "e1a4f105",
   "metadata": {},
   "outputs": [],
   "source": [
    "def myFit(x, y):\n",
    "  s = 0   # 各データからの距離の2乗の総和\n",
    "  min_s = 1000000   # 最小のsを初期化\n",
    "  \n",
    "  # 傾きと切片の取り得る最大値を計算\n",
    "  res = []\n",
    "  for i in range(len(x) - 1):\n",
    "    res.append((y[i+1] - y[i]) / (x[i+1] - x[i]))\n",
    "  max_a = (sum(res) / len(res))   # 傾きの取り得る最大値\n",
    "  max_b = sum(y) / len(y)   # 切片の取り得る最大値\n",
    "\n",
    "  tick_max_a = [i/10 for i in range(int(max_a+1)*10)]\n",
    "  tick_max_b = [i/10 for i in range(int(max_b+1)*10)]\n",
    "\n",
    "  # tmp_bを0から0.1ずつmax_bまで変化させる\n",
    "  for tmp_b in tick_max_b:    \n",
    "    # tmp_aを0から0.1ずつmax_aまで変化させる\n",
    "    for tmp_a in tick_max_a:   \n",
    "      # 各データからの距離の2乗の総和（s）を求める\n",
    "      for i in range(len(x)):   \n",
    "      \n",
    "        s = s + (y[i] - (tmp_a * x[i] + tmp_b))**2 \n",
    "      \n",
    "      if min_s > s :   # sが最小かどうかを判定する\n",
    "        min_s = s\n",
    "        min_a = round(tmp_a, 1)\n",
    "        min_b = round(tmp_b, 1)\n",
    "        \n",
    "      s = 0\n",
    "    tmp_a = 0\n",
    "    \n",
    "  print(\"回帰式：y =\", min_a, \"* x +\", min_b)\n",
    "  \n",
    "  return min_a, min_b"
   ]
  },
  {
   "cell_type": "code",
   "execution_count": 13,
   "id": "c6a75859",
   "metadata": {},
   "outputs": [
    {
     "name": "stdout",
     "output_type": "stream",
     "text": [
      "回帰式：y = 0.8 * x + 0.1\n"
     ]
    }
   ],
   "source": [
    "# Part 3 線形回帰\n",
    "x = [2, 4, 6]\n",
    "y = [2, 3, 5]\n",
    "\n",
    "a, b = myFit(x, y)"
   ]
  },
  {
   "cell_type": "code",
   "execution_count": 14,
   "id": "5abdc2da",
   "metadata": {},
   "outputs": [
    {
     "name": "stdout",
     "output_type": "stream",
     "text": [
      "回帰式：y = 0.4 * x + 2.2\n"
     ]
    }
   ],
   "source": [
    "# テストデータ\n",
    "x = [6, 7, 8, 10, 12, 15, 19, 20]\n",
    "y = [7, 3, 5,  6, 10,  3, 10, 12]\n",
    "\n",
    "a, b = myFit(x, y)"
   ]
  },
  {
   "cell_type": "code",
   "execution_count": 15,
   "id": "4d6eea2b",
   "metadata": {},
   "outputs": [
    {
     "name": "stdout",
     "output_type": "stream",
     "text": [
      "回帰式：y = 0.38940234134319157 * x + 2.278496611213796\n"
     ]
    }
   ],
   "source": [
    "import numpy as np\n",
    "\n",
    "# テストデータ\n",
    "x = [6, 7, 8, 10, 12, 15, 19, 20]\n",
    "y = [7, 3, 5,  6, 10,  3, 10, 12]\n",
    "\n",
    "coe = np.polyfit(x, y, 1)\n",
    "a = coe[0]\n",
    "b = coe[1]\n",
    "print(\"回帰式：y =\", a, \"* x +\", b)"
   ]
  },
  {
   "cell_type": "code",
   "execution_count": 16,
   "id": "4c15b887",
   "metadata": {},
   "outputs": [
    {
     "name": "stdout",
     "output_type": "stream",
     "text": [
      "回帰式：y = 0.3 * x + 4.5\n"
     ]
    }
   ],
   "source": [
    "import pandas as pd\n",
    "\n",
    "df = pd.read_csv(\"ice_sales.csv\")\n",
    "a, b = myFit(df.temp, df.sales)"
   ]
  },
  {
   "cell_type": "code",
   "execution_count": 17,
   "id": "59209ca1",
   "metadata": {},
   "outputs": [],
   "source": [
    "def myPredict(val, a, b):\n",
    "  y = a * val + b\n",
    "  return y"
   ]
  },
  {
   "cell_type": "code",
   "execution_count": 18,
   "id": "6c1199ca",
   "metadata": {},
   "outputs": [
    {
     "name": "stdout",
     "output_type": "stream",
     "text": [
      "13.5\n"
     ]
    }
   ],
   "source": [
    "sales = myPredict(30, a, b)\n",
    "print(sales)"
   ]
  },
  {
   "cell_type": "code",
   "execution_count": 19,
   "id": "ebb84e15",
   "metadata": {},
   "outputs": [],
   "source": [
    "def myFit2(x, y):\n",
    "  n = len(x)           # データの個数\n",
    "  x_ave = sum(x) / n   # xの平均値を求める\n",
    "  y_ave = sum(y) / n   # yの平均値を求める\n",
    "\n",
    "  cov_xy = 0   # xとyの共分散の変数の初期化\n",
    "  var_x =  0   # xの分散の変数の初期化\n",
    "\n",
    "  # xとyの共分散と、xの分散を求める\n",
    "  for xi, yi  in zip(x, y):\n",
    "    cov_xy = cov_xy + (xi - x_ave) * (yi - y_ave)\n",
    "    var_x = var_x + (xi - x_ave)**2\n",
    "  cov_xy = cov_xy / n\n",
    "  var_x = var_x / n\n",
    "\n",
    "  a = cov_xy / var_x\n",
    "  b = y_ave - a * x_ave\n",
    "\n",
    "  print(\"回帰式：y =\", a, \"* x +\", b)\n",
    "\n",
    "  return a, b"
   ]
  },
  {
   "cell_type": "code",
   "execution_count": 20,
   "id": "19b1d920",
   "metadata": {},
   "outputs": [
    {
     "name": "stdout",
     "output_type": "stream",
     "text": [
      "回帰式：y = 0.30748822784825974 * x + 4.396562631853734\n",
      "13.621209467301526\n"
     ]
    }
   ],
   "source": [
    "a, b = myFit2(df.temp, df.sales)\n",
    "sales = myPredict(30, a, b)\n",
    "print(sales)"
   ]
  },
  {
   "cell_type": "code",
   "execution_count": null,
   "id": "5cc393e6",
   "metadata": {},
   "outputs": [],
   "source": []
  }
 ],
 "metadata": {
  "kernelspec": {
   "display_name": "Python 3.8.2 64-bit ('3.8.2')",
   "language": "python",
   "name": "python3"
  },
  "language_info": {
   "codemirror_mode": {
    "name": "ipython",
    "version": 3
   },
   "file_extension": ".py",
   "mimetype": "text/x-python",
   "name": "python",
   "nbconvert_exporter": "python",
   "pygments_lexer": "ipython3",
   "version": "3.8.2"
  },
  "vscode": {
   "interpreter": {
    "hash": "e6cf82ae82e828d200fab7f5ba9abf59b6516bb6b46a916fa44930a67d435a4e"
   }
  }
 },
 "nbformat": 4,
 "nbformat_minor": 5
}
