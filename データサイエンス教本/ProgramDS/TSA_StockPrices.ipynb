{
 "cells": [
  {
   "cell_type": "markdown",
   "metadata": {},
   "source": [
    "# 株価の時系列データの分析\n",
    "\n",
    "pandas.DataFrame.rolling　https://pandas.pydata.org/pandas-docs/stable/generated/pandas.DataFrame.rolling.html  <br>\n",
    "mplfinance   https://github.com/matplotlib/mplfinance"
   ]
  },
  {
   "cell_type": "markdown",
   "metadata": {},
   "source": [
    "#### 2020年9月よりローソク足チャートのパッケージとAPIを変更\n",
    "従来はmatplotlibが提供していたが廃止となった。この変更の詳細は下記のローソク足チャートの箇所に記述した。"
   ]
  },
  {
   "cell_type": "code",
   "execution_count": null,
   "metadata": {},
   "outputs": [],
   "source": [
    "# -*- coding: utf-8 -*-\n",
    "# Rolling mean statistics\n",
    "import numpy as np\n",
    "import pandas as pd\n",
    "import matplotlib.pyplot as plt\n",
    "import matplotlib\n",
    "\n",
    "#import matplotlib.finance as mpf\n",
    "#from mpl_finance import candlestick_ohlc\n",
    "from matplotlib.dates import date2num\n",
    "\n",
    "import mplfinance as mpf\n",
    "%matplotlib inline\n",
    "\n",
    "matplotlib.rcParams['font.family'] ='Yu Mincho' # matplotlibで日本語を使う\n",
    "FLAG_fig = False"
   ]
  },
  {
   "cell_type": "code",
   "execution_count": null,
   "metadata": {
    "scrolled": false
   },
   "outputs": [],
   "source": [
    "#url = 'https://sites.google.com/site/datasciencehiro/datasets/Stock_7203.txt'\n",
    "url = 'datasets/Stock_7203.txt'\n",
    "df = pd.read_csv(url, index_col='日付', parse_dates=[0] )\n",
    "df = df.sort_index() # 日付を昇順に並び替える\n",
    "df.head()"
   ]
  },
  {
   "cell_type": "code",
   "execution_count": null,
   "metadata": {
    "scrolled": false
   },
   "outputs": [],
   "source": [
    "item='終値'\n",
    "W = 25\n",
    "ax = df[item].plot(color='black', label=item)\n",
    "\n",
    "rol = df[item].rolling(window=W).mean()\n",
    "rol.plot(ax=ax, label='移動平均25日', color='red', linestyle='dashed')\n",
    "\n",
    "ewm = df[item].ewm(span=W).mean()\n",
    "ewm.plot(ax=ax, label='指数移動平均スパン25', color='green', linestyle='dashed')\n",
    "\n",
    "plt.grid()\n",
    "plt.legend(loc='upper right')\n",
    "\n",
    "if FLAG_fig: plt.savefig('fig_TSA_StockPrice_result_1.png')\n",
    "plt.show()"
   ]
  },
  {
   "cell_type": "markdown",
   "metadata": {},
   "source": [
    "#### 移動平均,　windowの大きさの影響\n",
    "W＝7日と28日"
   ]
  },
  {
   "cell_type": "code",
   "execution_count": null,
   "metadata": {},
   "outputs": [],
   "source": [
    "item='終値'\n",
    "ax = df[item].plot(color='black', label=item)\n",
    "\n",
    "rol1 = df[item].rolling(window=7).mean()\n",
    "rol1.plot(ax=ax, label='移動平均7日', color='red', linestyle='dashed')\n",
    "\n",
    "rol2 = df[item].rolling(window=28).mean()\n",
    "rol2.plot(ax=ax, label='移動平均28日', color='green', linestyle='dashed')\n",
    "\n",
    "plt.grid()\n",
    "plt.legend(loc='upper right')\n",
    "\n",
    "if FLAG_fig: plt.savefig('fig_TSA_StockPrice_result_2.png')\n",
    "plt.show()"
   ]
  },
  {
   "cell_type": "markdown",
   "metadata": {},
   "source": [
    "#### ボリンジャーバンド（Bollinger bands)"
   ]
  },
  {
   "cell_type": "code",
   "execution_count": null,
   "metadata": {
    "scrolled": true
   },
   "outputs": [],
   "source": [
    "item = '終値'\n",
    "W = 25\n",
    "ax = df[item].plot(label=item, color='black', linestyle='solid')\n",
    "rolm = df[item].rolling(window=W).mean()\n",
    "rolst = df[item].rolling(window=W).std() #unbiased\n",
    "m = 2\n",
    "upper_band = rolm + rolst*m\n",
    "lower_band = rolm - rolst*m\n",
    "\n",
    "rolm.plot(ax=ax, label='移動平均25日', color='green', linestyle='solid')\n",
    "upper_band.plot(ax=ax, label='Upper band', color='red', linestyle='dashed')\n",
    "lower_band.plot(ax=ax, label='Lower band', color='blue', linestyle='dashed')\n",
    "\n",
    "plt.grid()\n",
    "plt.legend(loc='upper right')\n",
    "\n",
    "if FLAG_fig: plt.savefig('fig_TSA_StockPrice_BollingerBand.png')\n",
    "plt.show()"
   ]
  },
  {
   "cell_type": "markdown",
   "metadata": {},
   "source": [
    "#### ローソク足チャート\n",
    "・もともと，matplotlib.financeにあったが，現在はmaplotlibは提供していない。<br>\n",
    "・2020年9月時点，右のパッケージを使用：　https://github.com/matplotlib/mplfinance<br>\n",
    "・使い方は，このサイトを参照されたい。\n",
    "・dataframeのラベル名が英語で参照のため，必要なデータだけに対しての英語名への変換を次で行う。"
   ]
  },
  {
   "cell_type": "code",
   "execution_count": null,
   "metadata": {
    "scrolled": false
   },
   "outputs": [],
   "source": [
    "dfE = df.drop(columns='売買代金', axis=1)\n",
    "dfE.rename(columns={'始値':'Open','高値':'High','安値':'Low','終値':'Close','出来高':'Volume'}, inplace=True)\n",
    "dfE = dfE.rename({'日付':'Date'})\n",
    "dfE.index.name='Date'\n",
    "dfE.head(3)"
   ]
  },
  {
   "cell_type": "markdown",
   "metadata": {},
   "source": [
    "#### 使用しているmplfinanceは，ローソク足チャートと出来高（volume）を同時に見られるようになった。"
   ]
  },
  {
   "cell_type": "code",
   "execution_count": null,
   "metadata": {},
   "outputs": [],
   "source": [
    "dfESep = dfE['20170901':'20170930'] # 9月の1か月だけを見る\n",
    "mpf.plot(dfESep, type='candle', volume=True)\n",
    "\n",
    "if FLAG_fig: plt.savefig('fig_TSA_StockPrice_Plot_CandleStick_1.png')"
   ]
  },
  {
   "cell_type": "markdown",
   "metadata": {},
   "source": [
    "### 備考　nullデータの対処\n",
    "・Yafooファナンスから，日経データをダウンロード。\n",
    "・ファイル名\"^N225.csv\"，エンコードはutf-8である。\n",
    "・データにはnullデータ（マーケットが閉じている日は取引が無い）がある<br>\n",
    "・pandasはnull（データは無いという意味）をNan(Not a Number, 数字データは無いという意味)と解釈する。\n",
    "・この対処法を示す\n",
    "・原データを格納する変数（データフレーム）をdf0とする<br>\n"
   ]
  },
  {
   "cell_type": "code",
   "execution_count": null,
   "metadata": {},
   "outputs": [],
   "source": [
    "#url = 'https://sites.google.com/site/datasciencehiro/datasets/^N225.csv'\n",
    "url = 'datasets/^N225.csv'\n",
    "df0 = pd.read_csv(url, index_col='Date', parse_dates=[0] )\n",
    "df0 = df0.sort_index() # 日付を昇順に並び替える\n",
    "df0.head()"
   ]
  },
  {
   "cell_type": "markdown",
   "metadata": {},
   "source": [
    "#### 原データからNan(nullデータ)を削除して，これを変数dfに代入する\n",
    "メッソド\".notnull()\"はNan(null)データが無い行を返す。  \n",
    "データが無い日は，Open, High, Low, Close　全て同じであるから，ここでは'Open'を用いる "
   ]
  },
  {
   "cell_type": "code",
   "execution_count": null,
   "metadata": {},
   "outputs": [],
   "source": [
    "df = df0[df0['Open'].notnull()]\n",
    "df.head()"
   ]
  },
  {
   "cell_type": "markdown",
   "metadata": {},
   "source": [
    "#### 移動平均"
   ]
  },
  {
   "cell_type": "code",
   "execution_count": null,
   "metadata": {},
   "outputs": [],
   "source": [
    "item='Close'\n",
    "ax = df[item].plot(color='black', label=item)\n",
    "\n",
    "rol1 = df[item].rolling(window=5).mean()\n",
    "rol1.plot(ax=ax, label='Window=5', color='red', linestyle='dashed')\n",
    "\n",
    "rol2 = df[item].rolling(window=25).mean()\n",
    "rol2.plot(ax=ax, label='Window=25', color='green', linestyle='dashed')\n",
    "\n",
    "\n",
    "plt.grid()\n",
    "plt.legend(loc='upper right')\n",
    "plt.show()"
   ]
  }
 ],
 "metadata": {
  "kernelspec": {
   "display_name": "Python 3",
   "language": "python",
   "name": "python3"
  },
  "language_info": {
   "codemirror_mode": {
    "name": "ipython",
    "version": 3
   },
   "file_extension": ".py",
   "mimetype": "text/x-python",
   "name": "python",
   "nbconvert_exporter": "python",
   "pygments_lexer": "ipython3",
   "version": "3.7.9"
  }
 },
 "nbformat": 4,
 "nbformat_minor": 2
}
